{
 "cells": [
  {
   "cell_type": "code",
   "execution_count": null,
   "id": "2e0cbe63-74aa-4a5e-bc60-f74e3112f5ea",
   "metadata": {},
   "outputs": [],
   "source": [
    "# 101\n",
    "bool"
   ]
  },
  {
   "cell_type": "code",
   "execution_count": null,
   "id": "b302cecb-c37b-46a0-bbfe-a75763f490c0",
   "metadata": {},
   "outputs": [],
   "source": [
    "# 102\n",
    "False"
   ]
  },
  {
   "cell_type": "code",
   "execution_count": null,
   "id": "7c154273-f1b1-4420-bfd8-4973dccdedc4",
   "metadata": {},
   "outputs": [],
   "source": [
    "#103\n",
    "True"
   ]
  },
  {
   "cell_type": "code",
   "execution_count": null,
   "id": "8498f1d2-2f27-4286-9550-7b56653ad401",
   "metadata": {},
   "outputs": [],
   "source": [
    "#104\n",
    "True"
   ]
  },
  {
   "cell_type": "code",
   "execution_count": null,
   "id": "5dadefee-9be0-4fd5-b1b2-9d1832b136dd",
   "metadata": {},
   "outputs": [],
   "source": [
    "#105\n",
    "True"
   ]
  },
  {
   "cell_type": "code",
   "execution_count": null,
   "id": "4fb1a20f-ee24-4abf-a136-2923ad32b088",
   "metadata": {},
   "outputs": [],
   "source": [
    "#106\n",
    "=> 순서가 >=여야한다"
   ]
  },
  {
   "cell_type": "code",
   "execution_count": null,
   "id": "0996326e-6a7b-4159-a03d-e81343817c8c",
   "metadata": {},
   "outputs": [],
   "source": [
    "#107\n",
    "아무 일도 일어나지 않음"
   ]
  },
  {
   "cell_type": "code",
   "execution_count": null,
   "id": "a4554904-3a71-4356-979b-0c64cfa5dc6a",
   "metadata": {},
   "outputs": [],
   "source": [
    "#108\n",
    "Hi, there."
   ]
  },
  {
   "cell_type": "code",
   "execution_count": 5,
   "id": "31e78a62-7e16-4461-81f3-661bfeed9bce",
   "metadata": {},
   "outputs": [
    {
     "data": {
      "text/plain": [
       "4"
      ]
     },
     "execution_count": 5,
     "metadata": {},
     "output_type": "execute_result"
    }
   ],
   "source": [
    "#109\n",
    "1\n",
    "2\n",
    "4"
   ]
  },
  {
   "cell_type": "code",
   "execution_count": 1,
   "id": "3576e8d4-a622-4714-b691-53b87149274e",
   "metadata": {},
   "outputs": [
    {
     "data": {
      "text/plain": [
       "5"
      ]
     },
     "execution_count": 1,
     "metadata": {},
     "output_type": "execute_result"
    }
   ],
   "source": [
    "#110\n",
    "3\n",
    "5"
   ]
  },
  {
   "cell_type": "code",
   "execution_count": 11,
   "id": "c24ccbb2-7e74-4a89-a507-388078c73c0d",
   "metadata": {},
   "outputs": [
    {
     "name": "stdin",
     "output_type": "stream",
     "text": [
      " 안녕하세요\n"
     ]
    },
    {
     "name": "stdout",
     "output_type": "stream",
     "text": [
      "안녕하세요안녕하세요\n"
     ]
    }
   ],
   "source": [
    "#111\n",
    "a = input()\n",
    "print(a * 2)"
   ]
  },
  {
   "cell_type": "code",
   "execution_count": 21,
   "id": "ce22350f-b519-447d-b51e-dab7e9312eb2",
   "metadata": {},
   "outputs": [
    {
     "name": "stdin",
     "output_type": "stream",
     "text": [
      " 5\n"
     ]
    },
    {
     "data": {
      "text/plain": [
       "15"
      ]
     },
     "execution_count": 21,
     "metadata": {},
     "output_type": "execute_result"
    }
   ],
   "source": [
    "#112\n",
    "b = input()\n",
    "c = int(b)\n",
    "c + 10"
   ]
  },
  {
   "cell_type": "code",
   "execution_count": 39,
   "id": "01e17511-9f23-490b-a373-a98d1e676be4",
   "metadata": {},
   "outputs": [
    {
     "name": "stdin",
     "output_type": "stream",
     "text": [
      "숫자를 입력하세요 55\n"
     ]
    },
    {
     "name": "stdout",
     "output_type": "stream",
     "text": [
      "홀수\n"
     ]
    }
   ],
   "source": [
    "#113\n",
    "user = input('숫자를 입력하세요')\n",
    "number = int(user)\n",
    "if number % 2 == 0:\n",
    "    print('짝수')\n",
    "else:\n",
    "    print('홀수')"
   ]
  },
  {
   "cell_type": "code",
   "execution_count": 49,
   "id": "94b0199b-37d4-4e48-b828-7743eec03b58",
   "metadata": {},
   "outputs": [
    {
     "name": "stdin",
     "output_type": "stream",
     "text": [
      "숫자를 입력하세요 20\n"
     ]
    },
    {
     "name": "stdout",
     "output_type": "stream",
     "text": [
      "입력값: 20\n",
      "40\n"
     ]
    }
   ],
   "source": [
    "#114\n",
    "user = input('숫자를 입력하세요')\n",
    "number = int(user)\n",
    "result = number + 20\n",
    "print('입력값:', number)\n",
    "if result > 255:\n",
    "    print(255)\n",
    "else:\n",
    "    print(result)"
   ]
  },
  {
   "cell_type": "code",
   "execution_count": 71,
   "id": "92b0cec4-ea90-4140-8c51-596f1e6e40c1",
   "metadata": {},
   "outputs": [
    {
     "name": "stdin",
     "output_type": "stream",
     "text": [
      "숫자를 입력하세요 100\n"
     ]
    },
    {
     "name": "stdout",
     "output_type": "stream",
     "text": [
      "입력값: 100\n",
      "80\n"
     ]
    }
   ],
   "source": [
    "#115\n",
    "user = input('숫자를 입력하세요')\n",
    "number = int(user)\n",
    "result = int(number - 20)\n",
    "print('입력값:', number)\n",
    "if result < 0:\n",
    "    print(0)\n",
    "elif result > 255:\n",
    "    print(255)\n",
    "else: \n",
    "    print(result)"
   ]
  },
  {
   "cell_type": "code",
   "execution_count": 87,
   "id": "4ac56209-9959-4ada-b01d-63986c98ee97",
   "metadata": {},
   "outputs": [
    {
     "name": "stdin",
     "output_type": "stream",
     "text": [
      "현재시간:  55:55\n"
     ]
    },
    {
     "name": "stdout",
     "output_type": "stream",
     "text": [
      "정각이 아닙니다.\n"
     ]
    }
   ],
   "source": [
    "#116\n",
    "time = input(\"현재시간: \")\n",
    "if time[-2:] == \"00\":\n",
    "    print(\"정각 입니다.\")\n",
    "else:\n",
    "    print(\"정각이 아닙니다.\")"
   ]
  },
  {
   "cell_type": "code",
   "execution_count": 93,
   "id": "7d826723-fbb8-43f4-b7ef-2b27531c939b",
   "metadata": {},
   "outputs": [
    {
     "name": "stdin",
     "output_type": "stream",
     "text": [
      "과일을 입력해 주세요 두리안\n"
     ]
    },
    {
     "name": "stdout",
     "output_type": "stream",
     "text": [
      "오답입니다\n"
     ]
    }
   ],
   "source": [
    "#117\n",
    "fruit = [\"사과\", \"포도\", \"홍시\"]\n",
    "user = input(\"과일을 입력해 주세요\")\n",
    "if user in fruit:\n",
    "    print('정답입니다')\n",
    "else:\n",
    "    print('오답입니다')   "
   ]
  },
  {
   "cell_type": "code",
   "execution_count": 101,
   "id": "df07d0e7-8444-4607-af3c-5e7f317a9e41",
   "metadata": {},
   "outputs": [
    {
     "name": "stdin",
     "output_type": "stream",
     "text": [
      "종목을 영어로 입력해주세요 google\n"
     ]
    },
    {
     "name": "stdout",
     "output_type": "stream",
     "text": [
      "투자 경고 종목입니다\n"
     ]
    }
   ],
   "source": [
    "#118\n",
    "warn_investment_list = [\"Microsoft\", \"Google\", \"Naver\", \"Kakao\", \"SAMSUNG\", \"LG\"]\n",
    "user = input(\"종목을 영어로 입력해주세요\")\n",
    "a = user.capitalize()\n",
    "if a in warn_investment_list:\n",
    "    print('투자 경고 종목입니다')\n",
    "else:\n",
    "    print('투자 경고 종목이 아닙니다.')  "
   ]
  },
  {
   "cell_type": "code",
   "execution_count": 111,
   "id": "b199d08e-3191-456e-8f99-82aee3444be9",
   "metadata": {},
   "outputs": [
    {
     "name": "stdin",
     "output_type": "stream",
     "text": [
      "제가 좋아하는 계절은:  봄\n"
     ]
    },
    {
     "name": "stdout",
     "output_type": "stream",
     "text": [
      "정답입니다\n"
     ]
    }
   ],
   "source": [
    "#119\n",
    "fruit = {\"봄\" : \"딸기\", \"여름\" : \"토마토\", \"가을\" : \"사과\"}\n",
    "user = input('제가 좋아하는 계절은: ')\n",
    "if user in fruit:\n",
    "    print('정답입니다')\n",
    "else:\n",
    "    print('오답입니다')   "
   ]
  },
  {
   "cell_type": "code",
   "execution_count": 119,
   "id": "e228ffcc-af51-4230-a134-0289afbe9db6",
   "metadata": {},
   "outputs": [
    {
     "name": "stdin",
     "output_type": "stream",
     "text": [
      "제가 좋아하는 과일은:  한라봉\n"
     ]
    },
    {
     "name": "stdout",
     "output_type": "stream",
     "text": [
      "오답입니다\n"
     ]
    }
   ],
   "source": [
    "#120\n",
    "fruit = {\"봄\" : \"딸기\", \"여름\" : \"토마토\", \"가을\" : \"사과\"}\n",
    "user = input('제가 좋아하는 과일은: ')\n",
    "if user in fruit.values():\n",
    "    print('정답입니다')\n",
    "else:\n",
    "    print('오답입니다')   "
   ]
  },
  {
   "cell_type": "code",
   "execution_count": 125,
   "id": "868fd564-fb7f-4d7f-b89a-039c07cd0867",
   "metadata": {},
   "outputs": [
    {
     "name": "stdin",
     "output_type": "stream",
     "text": [
      " s\n"
     ]
    },
    {
     "name": "stdout",
     "output_type": "stream",
     "text": [
      "S\n"
     ]
    }
   ],
   "source": [
    "#121\n",
    "user = input(\"\")\n",
    "if user.islower():\n",
    "    print(user.upper())\n",
    "else:\n",
    "    print(user.lower())"
   ]
  },
  {
   "cell_type": "code",
   "execution_count": 131,
   "id": "e4dbc06c-e65a-48d9-94f2-78195360595f",
   "metadata": {},
   "outputs": [
    {
     "name": "stdin",
     "output_type": "stream",
     "text": [
      " 4\n"
     ]
    },
    {
     "name": "stdout",
     "output_type": "stream",
     "text": [
      "grade is E\n"
     ]
    }
   ],
   "source": [
    "#122\n",
    "score = input()\n",
    "result = int(score)\n",
    "if 81 <= result <= 100:\n",
    "    print('grade is A')\n",
    "elif 61 <= result <= 80:\n",
    "    print('grade is B')\n",
    "elif 41 <= result <= 60:\n",
    "    print('grade is C')\n",
    "elif 21 <= result <= 40:\n",
    "    print('grade is D')\n",
    "else:\n",
    "    print('grade is E')"
   ]
  },
  {
   "cell_type": "code",
   "execution_count": 145,
   "id": "78932508-6ad3-4d6b-8e17-db5320b03d24",
   "metadata": {},
   "outputs": [
    {
     "name": "stdin",
     "output_type": "stream",
     "text": [
      "입력:  30 달러\n"
     ]
    },
    {
     "name": "stdout",
     "output_type": "stream",
     "text": [
      "35010.0 원\n"
     ]
    }
   ],
   "source": [
    "환율 = {\"달러\": 1167, \n",
    "        \"엔\": 1.096, \n",
    "        \"유로\": 1268, \n",
    "        \"위안\": 171}\n",
    "user = input(\"입력: \")\n",
    "num, currency = user.split()\n",
    "print(float(num) * 환율[currency], \"원\")"
   ]
  }
 ],
 "metadata": {
  "kernelspec": {
   "display_name": "Python 3 (ipykernel)",
   "language": "python",
   "name": "python3"
  },
  "language_info": {
   "codemirror_mode": {
    "name": "ipython",
    "version": 3
   },
   "file_extension": ".py",
   "mimetype": "text/x-python",
   "name": "python",
   "nbconvert_exporter": "python",
   "pygments_lexer": "ipython3",
   "version": "3.12.4"
  }
 },
 "nbformat": 4,
 "nbformat_minor": 5
}
