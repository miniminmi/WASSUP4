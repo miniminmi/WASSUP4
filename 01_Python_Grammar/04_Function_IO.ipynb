{
 "cells": [
  {
   "cell_type": "markdown",
   "id": "c5462621-34b7-4b98-80b8-a7b70896a937",
   "metadata": {},
   "source": [
    "# 함수와 입출력\n",
    "## 함수"
   ]
  },
  {
   "cell_type": "code",
   "execution_count": 4,
   "id": "e07e56ee-4043-4294-8283-953bf8c33a3d",
   "metadata": {},
   "outputs": [],
   "source": [
    "def add(a,d):\n",
    "    return a + b"
   ]
  },
  {
   "cell_type": "code",
   "execution_count": 18,
   "id": "c91a1d2f-8235-4cb9-9870-13f11c87133d",
   "metadata": {},
   "outputs": [
    {
     "name": "stdout",
     "output_type": "stream",
     "text": [
      "7\n"
     ]
    }
   ],
   "source": [
    ">>> a = 3\n",
    ">>> b = 4\n",
    ">>> c = add(a, b)  # add(3, 4)의 리턴값을 c에 대입\n",
    ">>> print(c)"
   ]
  },
  {
   "cell_type": "code",
   "execution_count": 14,
   "id": "393de7b9-59f4-4c17-bc17-224477eb3868",
   "metadata": {},
   "outputs": [
    {
     "name": "stdout",
     "output_type": "stream",
     "text": [
      "7\n"
     ]
    }
   ],
   "source": [
    "def add(a, b):  # a, b는 매개변수\n",
    "    return a+b\n",
    "\n",
    "print(add(3, 4))  # 3, 4는 인수"
   ]
  },
  {
   "cell_type": "code",
   "execution_count": 20,
   "id": "da4246ae-410c-48f1-a0cf-8671cceb1446",
   "metadata": {},
   "outputs": [],
   "source": [
    "def add(a, b): \n",
    "    result = a + b \n",
    "    return result"
   ]
  },
  {
   "cell_type": "code",
   "execution_count": 24,
   "id": "43ebc977-8113-4177-905e-1db608586a10",
   "metadata": {},
   "outputs": [
    {
     "data": {
      "text/plain": [
       "7"
      ]
     },
     "execution_count": 24,
     "metadata": {},
     "output_type": "execute_result"
    }
   ],
   "source": [
    "add(3, 4)"
   ]
  },
  {
   "cell_type": "code",
   "execution_count": 32,
   "id": "73acd9f4-7a6f-4aef-bb2a-cc24a9316025",
   "metadata": {},
   "outputs": [
    {
     "name": "stdout",
     "output_type": "stream",
     "text": [
      "Hi\n"
     ]
    }
   ],
   "source": [
    "#입력값이 없는 함수\n",
    "def say(): \n",
    "    return 'Hi' \n",
    "\n",
    "a = say()\n",
    "print(a)"
   ]
  },
  {
   "cell_type": "code",
   "execution_count": null,
   "id": "23e77254-18cf-4368-8a6c-3d0285f5b42b",
   "metadata": {},
   "outputs": [],
   "source": [
    "# 리턴값이 없는 함수\n",
    "def add(a, b): \n",
    "    print(\"%d, %d의 합은 %d입니다.\" % (a, b, a+b))"
   ]
  },
  {
   "cell_type": "code",
   "execution_count": 34,
   "id": "8dd21c0e-daa3-4abe-967d-bb8b26f9eb50",
   "metadata": {},
   "outputs": [
    {
     "data": {
      "text/plain": [
       "7"
      ]
     },
     "execution_count": 34,
     "metadata": {},
     "output_type": "execute_result"
    }
   ],
   "source": [
    "add(3, 4)"
   ]
  },
  {
   "cell_type": "code",
   "execution_count": 42,
   "id": "9a9b7b92-cb5f-4c45-ac06-04454dcb9b7e",
   "metadata": {},
   "outputs": [],
   "source": [
    "# 입력값이 몇 개가 될지 모를 때는 어떻게 해야 할까?\n",
    "# 사용자의 입력이 몇개든, 전부 다 누적해서 더해주는 함수 \n",
    "def add_many(*args):\n",
    "    result = 0\n",
    "    for i in args:\n",
    "        result = result+i\n",
    "    return result"
   ]
  },
  {
   "cell_type": "code",
   "execution_count": 58,
   "id": "88d5d8fb-895a-44be-9884-932985f02c13",
   "metadata": {},
   "outputs": [
    {
     "data": {
      "text/plain": [
       "12"
      ]
     },
     "execution_count": 58,
     "metadata": {},
     "output_type": "execute_result"
    }
   ],
   "source": [
    "add_many(1, 2, 3, 3, 3)"
   ]
  },
  {
   "cell_type": "code",
   "execution_count": 60,
   "id": "ef0bbb8c-0819-4cd7-89b0-d7426c44a0cd",
   "metadata": {},
   "outputs": [
    {
     "data": {
      "text/plain": [
       "'\\n사용자에게 다수의 입력을 받아서 \\n옵션에 따라서 누적곱 또는 누적합을 출력하는 함수를 만들어라 \\n'"
      ]
     },
     "execution_count": 60,
     "metadata": {},
     "output_type": "execute_result"
    }
   ],
   "source": [
    "# quiz \n",
    "'''\n",
    "사용자에게 다수의 입력을 받아서 \n",
    "옵션에 따라서 누적곱 또는 누적합을 출력하는 함수를 만들어라 \n",
    "''' "
   ]
  },
  {
   "cell_type": "code",
   "execution_count": 56,
   "id": "306ba23b-c544-4834-bef0-a235c3c297f3",
   "metadata": {},
   "outputs": [],
   "source": [
    "# default1.py\n",
    "def say_myself(name, age, man=True): \n",
    "    print(\"나의 이름은 %s 입니다.\" % name) \n",
    "    print(\"나이는 %d살입니다.\" % age) \n",
    "    if man: \n",
    "        print(\"남자입니다.\")\n",
    "    else: \n",
    "        print(\"여자입니다.\")"
   ]
  },
  {
   "cell_type": "code",
   "execution_count": 62,
   "id": "edabcb55-b490-499a-8545-cdde651dd4b6",
   "metadata": {},
   "outputs": [
    {
     "name": "stdout",
     "output_type": "stream",
     "text": [
      "나의 이름은 홍길동 입니다.\n",
      "나이는 20살입니다.\n",
      "남자입니다.\n"
     ]
    }
   ],
   "source": [
    "say_myself('홍길동', 20)"
   ]
  },
  {
   "cell_type": "markdown",
   "id": "ef76a41b-3fdd-49eb-8642-180f3f66682f",
   "metadata": {},
   "source": [
    "# 파일 읽고 쓰기"
   ]
  },
  {
   "cell_type": "code",
   "execution_count": 65,
   "id": "d1b18eb7-f703-4e61-92c3-69bc1745e785",
   "metadata": {},
   "outputs": [
    {
     "data": {
      "text/plain": [
       "\u001b[1;31mSignature:\u001b[0m\n",
       "\u001b[0mopen\u001b[0m\u001b[1;33m(\u001b[0m\u001b[1;33m\n",
       "\u001b[0m    \u001b[0mfile\u001b[0m\u001b[1;33m,\u001b[0m\u001b[1;33m\n",
       "\u001b[0m    \u001b[0mmode\u001b[0m\u001b[1;33m=\u001b[0m\u001b[1;34m'r'\u001b[0m\u001b[1;33m,\u001b[0m\u001b[1;33m\n",
       "\u001b[0m    \u001b[0mbuffering\u001b[0m\u001b[1;33m=\u001b[0m\u001b[1;33m-\u001b[0m\u001b[1;36m1\u001b[0m\u001b[1;33m,\u001b[0m\u001b[1;33m\n",
       "\u001b[0m    \u001b[0mencoding\u001b[0m\u001b[1;33m=\u001b[0m\u001b[1;32mNone\u001b[0m\u001b[1;33m,\u001b[0m\u001b[1;33m\n",
       "\u001b[0m    \u001b[0merrors\u001b[0m\u001b[1;33m=\u001b[0m\u001b[1;32mNone\u001b[0m\u001b[1;33m,\u001b[0m\u001b[1;33m\n",
       "\u001b[0m    \u001b[0mnewline\u001b[0m\u001b[1;33m=\u001b[0m\u001b[1;32mNone\u001b[0m\u001b[1;33m,\u001b[0m\u001b[1;33m\n",
       "\u001b[0m    \u001b[0mclosefd\u001b[0m\u001b[1;33m=\u001b[0m\u001b[1;32mTrue\u001b[0m\u001b[1;33m,\u001b[0m\u001b[1;33m\n",
       "\u001b[0m    \u001b[0mopener\u001b[0m\u001b[1;33m=\u001b[0m\u001b[1;32mNone\u001b[0m\u001b[1;33m,\u001b[0m\u001b[1;33m\n",
       "\u001b[0m\u001b[1;33m)\u001b[0m\u001b[1;33m\u001b[0m\u001b[1;33m\u001b[0m\u001b[0m\n",
       "\u001b[1;31mDocstring:\u001b[0m\n",
       "Open file and return a stream.  Raise OSError upon failure.\n",
       "\n",
       "file is either a text or byte string giving the name (and the path\n",
       "if the file isn't in the current working directory) of the file to\n",
       "be opened or an integer file descriptor of the file to be\n",
       "wrapped. (If a file descriptor is given, it is closed when the\n",
       "returned I/O object is closed, unless closefd is set to False.)\n",
       "\n",
       "mode is an optional string that specifies the mode in which the file\n",
       "is opened. It defaults to 'r' which means open for reading in text\n",
       "mode.  Other common values are 'w' for writing (truncating the file if\n",
       "it already exists), 'x' for creating and writing to a new file, and\n",
       "'a' for appending (which on some Unix systems, means that all writes\n",
       "append to the end of the file regardless of the current seek position).\n",
       "In text mode, if encoding is not specified the encoding used is platform\n",
       "dependent: locale.getencoding() is called to get the current locale encoding.\n",
       "(For reading and writing raw bytes use binary mode and leave encoding\n",
       "unspecified.) The available modes are:\n",
       "\n",
       "========= ===============================================================\n",
       "Character Meaning\n",
       "--------- ---------------------------------------------------------------\n",
       "'r'       open for reading (default)\n",
       "'w'       open for writing, truncating the file first\n",
       "'x'       create a new file and open it for writing\n",
       "'a'       open for writing, appending to the end of the file if it exists\n",
       "'b'       binary mode\n",
       "'t'       text mode (default)\n",
       "'+'       open a disk file for updating (reading and writing)\n",
       "========= ===============================================================\n",
       "\n",
       "The default mode is 'rt' (open for reading text). For binary random\n",
       "access, the mode 'w+b' opens and truncates the file to 0 bytes, while\n",
       "'r+b' opens the file without truncation. The 'x' mode implies 'w' and\n",
       "raises an `FileExistsError` if the file already exists.\n",
       "\n",
       "Python distinguishes between files opened in binary and text modes,\n",
       "even when the underlying operating system doesn't. Files opened in\n",
       "binary mode (appending 'b' to the mode argument) return contents as\n",
       "bytes objects without any decoding. In text mode (the default, or when\n",
       "'t' is appended to the mode argument), the contents of the file are\n",
       "returned as strings, the bytes having been first decoded using a\n",
       "platform-dependent encoding or using the specified encoding if given.\n",
       "\n",
       "buffering is an optional integer used to set the buffering policy.\n",
       "Pass 0 to switch buffering off (only allowed in binary mode), 1 to select\n",
       "line buffering (only usable in text mode), and an integer > 1 to indicate\n",
       "the size of a fixed-size chunk buffer.  When no buffering argument is\n",
       "given, the default buffering policy works as follows:\n",
       "\n",
       "* Binary files are buffered in fixed-size chunks; the size of the buffer\n",
       "  is chosen using a heuristic trying to determine the underlying device's\n",
       "  \"block size\" and falling back on `io.DEFAULT_BUFFER_SIZE`.\n",
       "  On many systems, the buffer will typically be 4096 or 8192 bytes long.\n",
       "\n",
       "* \"Interactive\" text files (files for which isatty() returns True)\n",
       "  use line buffering.  Other text files use the policy described above\n",
       "  for binary files.\n",
       "\n",
       "encoding is the name of the encoding used to decode or encode the\n",
       "file. This should only be used in text mode. The default encoding is\n",
       "platform dependent, but any encoding supported by Python can be\n",
       "passed.  See the codecs module for the list of supported encodings.\n",
       "\n",
       "errors is an optional string that specifies how encoding errors are to\n",
       "be handled---this argument should not be used in binary mode. Pass\n",
       "'strict' to raise a ValueError exception if there is an encoding error\n",
       "(the default of None has the same effect), or pass 'ignore' to ignore\n",
       "errors. (Note that ignoring encoding errors can lead to data loss.)\n",
       "See the documentation for codecs.register or run 'help(codecs.Codec)'\n",
       "for a list of the permitted encoding error strings.\n",
       "\n",
       "newline controls how universal newlines works (it only applies to text\n",
       "mode). It can be None, '', '\\n', '\\r', and '\\r\\n'.  It works as\n",
       "follows:\n",
       "\n",
       "* On input, if newline is None, universal newlines mode is\n",
       "  enabled. Lines in the input can end in '\\n', '\\r', or '\\r\\n', and\n",
       "  these are translated into '\\n' before being returned to the\n",
       "  caller. If it is '', universal newline mode is enabled, but line\n",
       "  endings are returned to the caller untranslated. If it has any of\n",
       "  the other legal values, input lines are only terminated by the given\n",
       "  string, and the line ending is returned to the caller untranslated.\n",
       "\n",
       "* On output, if newline is None, any '\\n' characters written are\n",
       "  translated to the system default line separator, os.linesep. If\n",
       "  newline is '' or '\\n', no translation takes place. If newline is any\n",
       "  of the other legal values, any '\\n' characters written are translated\n",
       "  to the given string.\n",
       "\n",
       "If closefd is False, the underlying file descriptor will be kept open\n",
       "when the file is closed. This does not work when a file name is given\n",
       "and must be True in that case.\n",
       "\n",
       "A custom opener can be used by passing a callable as *opener*. The\n",
       "underlying file descriptor for the file object is then obtained by\n",
       "calling *opener* with (*file*, *flags*). *opener* must return an open\n",
       "file descriptor (passing os.open as *opener* results in functionality\n",
       "similar to passing None).\n",
       "\n",
       "open() returns a file object whose type depends on the mode, and\n",
       "through which the standard file operations such as reading and writing\n",
       "are performed. When open() is used to open a file in a text mode ('w',\n",
       "'r', 'wt', 'rt', etc.), it returns a TextIOWrapper. When used to open\n",
       "a file in a binary mode, the returned class varies: in read binary\n",
       "mode, it returns a BufferedReader; in write binary and append binary\n",
       "modes, it returns a BufferedWriter, and in read/write mode, it returns\n",
       "a BufferedRandom.\n",
       "\n",
       "It is also possible to use a string or bytearray as a file for both\n",
       "reading and writing. For strings StringIO can be used like a file\n",
       "opened in a text mode, and for bytes a BytesIO can be used like a file\n",
       "opened in a binary mode.\n",
       "\u001b[1;31mType:\u001b[0m      function"
      ]
     },
     "metadata": {},
     "output_type": "display_data"
    }
   ],
   "source": [
    "open?"
   ]
  },
  {
   "cell_type": "code",
   "execution_count": 67,
   "id": "9100c556-7091-423b-bb6f-03742d18e8e6",
   "metadata": {},
   "outputs": [],
   "source": [
    "f = open('output/test.txt', 'w')\n",
    "f.close()"
   ]
  },
  {
   "cell_type": "code",
   "execution_count": 75,
   "id": "4f5e8495-3af0-4f91-abf9-a006e7bf9ed4",
   "metadata": {},
   "outputs": [],
   "source": [
    "f = open('output/test.txt', 'w')\n",
    "for i in range(1, 11):\n",
    "    f.write(f'{i}번째 줄입니다.\\n')\n",
    "            \n",
    "f.close()"
   ]
  },
  {
   "cell_type": "code",
   "execution_count": 79,
   "id": "b69bdd2a-a498-4a71-8db2-7cd199901ef9",
   "metadata": {},
   "outputs": [
    {
     "name": "stdout",
     "output_type": "stream",
     "text": [
      "1번째 줄입니다.\n",
      "\n"
     ]
    }
   ],
   "source": [
    "# readline\n",
    "f = open('output/test.txt', 'r')\n",
    "line = f.readline()\n",
    "print(line)            \n",
    "f.close()"
   ]
  },
  {
   "cell_type": "code",
   "execution_count": 83,
   "id": "9859f11a-e521-456a-b3bc-63e67ca8839d",
   "metadata": {},
   "outputs": [
    {
     "name": "stdout",
     "output_type": "stream",
     "text": [
      "1번째 줄입니다.\n",
      "\n",
      "2번째 줄입니다.\n",
      "\n",
      "3번째 줄입니다.\n",
      "\n",
      "4번째 줄입니다.\n",
      "\n",
      "5번째 줄입니다.\n",
      "\n"
     ]
    }
   ],
   "source": [
    "# readline\n",
    "f = open('output/test.txt', 'r')\n",
    "for i in range(5):\n",
    "    line = f.readline()\n",
    "    print(line)            \n",
    "f.close()"
   ]
  },
  {
   "cell_type": "code",
   "execution_count": 87,
   "id": "dc00be07-b7c1-41f5-bc66-a7025190cb82",
   "metadata": {},
   "outputs": [
    {
     "name": "stdout",
     "output_type": "stream",
     "text": [
      "1번째 줄입니다.\n",
      "\n",
      "2번째 줄입니다.\n",
      "\n",
      "3번째 줄입니다.\n",
      "\n",
      "4번째 줄입니다.\n",
      "\n",
      "5번째 줄입니다.\n",
      "\n",
      "6번째 줄입니다.\n",
      "\n",
      "7번째 줄입니다.\n",
      "\n",
      "8번째 줄입니다.\n",
      "\n",
      "9번째 줄입니다.\n",
      "\n",
      "10번째 줄입니다.\n",
      "\n"
     ]
    }
   ],
   "source": [
    "#readlines 함수\n",
    "f = open('output/test.txt', 'r')\n",
    "lines = f.readlines()\n",
    "for line in lines:\n",
    "    print(line)\n",
    "f.close()"
   ]
  },
  {
   "cell_type": "code",
   "execution_count": 89,
   "id": "e6240e8e-7920-40e4-a4fb-9566a94a40df",
   "metadata": {
    "scrolled": true
   },
   "outputs": [
    {
     "name": "stdout",
     "output_type": "stream",
     "text": [
      "1번째 줄입니다.\n",
      "2번째 줄입니다.\n",
      "3번째 줄입니다.\n",
      "4번째 줄입니다.\n",
      "5번째 줄입니다.\n",
      "6번째 줄입니다.\n",
      "7번째 줄입니다.\n",
      "8번째 줄입니다.\n",
      "9번째 줄입니다.\n",
      "10번째 줄입니다.\n"
     ]
    }
   ],
   "source": [
    "#quiz\n",
    "'''\n",
    "메모장을 읽어올 떄 줄바꿈을 없애보세요\n",
    "'''\n",
    "f = open('output/test.txt', 'r')\n",
    "lines = f.readlines()\n",
    "for line in lines : \n",
    "    print(line.strip())\n",
    "f.close()"
   ]
  },
  {
   "cell_type": "code",
   "execution_count": 95,
   "id": "f61e1ce0-7070-44e2-8f91-4f29356074cb",
   "metadata": {},
   "outputs": [],
   "source": [
    "# 파일에 새로운 내용 추가하기\n",
    "f = open('output/test.txt', 'a')\n",
    "for i in range(11, 21):\n",
    "    data = f'{i}번째 줄입니다.\\n'\n",
    "    f.write(data)\n",
    "f.close()"
   ]
  },
  {
   "cell_type": "code",
   "execution_count": 99,
   "id": "ac4759fb-be86-49f5-b373-d52a75ad4864",
   "metadata": {},
   "outputs": [],
   "source": [
    "f = open('output/test.txt', 'w')\n",
    "f.write(\"dddddd\")\n",
    "f.close()"
   ]
  },
  {
   "cell_type": "code",
   "execution_count": 101,
   "id": "253ab2d8-57fd-4be4-8410-9e9307c68997",
   "metadata": {},
   "outputs": [],
   "source": [
    "with open('output/test.txt', 'w') as f:\n",
    "    f.write(\"dddsdasdasdasdadas\")"
   ]
  }
 ],
 "metadata": {
  "kernelspec": {
   "display_name": "Python 3 (ipykernel)",
   "language": "python",
   "name": "python3"
  },
  "language_info": {
   "codemirror_mode": {
    "name": "ipython",
    "version": 3
   },
   "file_extension": ".py",
   "mimetype": "text/x-python",
   "name": "python",
   "nbconvert_exporter": "python",
   "pygments_lexer": "ipython3",
   "version": "3.12.4"
  }
 },
 "nbformat": 4,
 "nbformat_minor": 5
}
