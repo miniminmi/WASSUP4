{
 "cells": [
  {
   "cell_type": "markdown",
   "id": "0ac4fa4a-7b0b-40bc-906d-ab71eec30b8a",
   "metadata": {},
   "source": [
    "# 51-55"
   ]
  },
  {
   "cell_type": "code",
   "execution_count": 4,
   "id": "a36a1a51-dd01-437a-9972-e85ee6ed9bc4",
   "metadata": {},
   "outputs": [
    {
     "data": {
      "text/plain": [
       "['닥터 스트레인지', '스플릿', '럭키']"
      ]
     },
     "execution_count": 4,
     "metadata": {},
     "output_type": "execute_result"
    }
   ],
   "source": [
    "movie_rank = ['닥터 스트레인지', '스플릿', '럭키']\n",
    "movie_rank"
   ]
  },
  {
   "cell_type": "code",
   "execution_count": 14,
   "id": "a0c7cb0f-e423-4c90-ad8c-8d9c9838dfc2",
   "metadata": {},
   "outputs": [
    {
     "data": {
      "text/plain": [
       "['닥터 스트레인지', '스플릿', '럭키', '베트맨']"
      ]
     },
     "execution_count": 14,
     "metadata": {},
     "output_type": "execute_result"
    }
   ],
   "source": [
    "movie_rank.append('베트맨')\n",
    "movie_rank"
   ]
  },
  {
   "cell_type": "code",
   "execution_count": 16,
   "id": "12920113-3b04-4929-8a33-8a6c5351c0d6",
   "metadata": {},
   "outputs": [
    {
     "data": {
      "text/plain": [
       "['닥터 스트레인지', '슈퍼맨', '스플릿', '럭키', '베트맨']"
      ]
     },
     "execution_count": 16,
     "metadata": {},
     "output_type": "execute_result"
    }
   ],
   "source": [
    "movie_rank.insert(1, '슈퍼맨')\n",
    "movie_rank"
   ]
  },
  {
   "cell_type": "code",
   "execution_count": 48,
   "id": "ba9ff2ca-3816-4e45-b2a0-4c83e6689559",
   "metadata": {},
   "outputs": [
    {
     "data": {
      "text/plain": [
       "['닥터 스트레인지', '슈퍼맨', '스플릿']"
      ]
     },
     "execution_count": 48,
     "metadata": {},
     "output_type": "execute_result"
    }
   ],
   "source": [
    "a = ['닥터 스트레인지', '슈퍼맨', '스플릿', '럭키', '베트맨']\n",
    "del a[3]\n",
    "del a[3]\n",
    "a"
   ]
  },
  {
   "cell_type": "markdown",
   "id": "2fa2acd9-7e62-4a38-8589-f799e25b8178",
   "metadata": {},
   "source": [
    "# 56-60"
   ]
  },
  {
   "cell_type": "code",
   "execution_count": null,
   "id": "b33eaf18-cb70-4faf-9062-15f20c85760d",
   "metadata": {},
   "outputs": [],
   "source": []
  }
 ],
 "metadata": {
  "kernelspec": {
   "display_name": "Python 3 (ipykernel)",
   "language": "python",
   "name": "python3"
  },
  "language_info": {
   "codemirror_mode": {
    "name": "ipython",
    "version": 3
   },
   "file_extension": ".py",
   "mimetype": "text/x-python",
   "name": "python",
   "nbconvert_exporter": "python",
   "pygments_lexer": "ipython3",
   "version": "3.12.4"
  }
 },
 "nbformat": 4,
 "nbformat_minor": 5
}
