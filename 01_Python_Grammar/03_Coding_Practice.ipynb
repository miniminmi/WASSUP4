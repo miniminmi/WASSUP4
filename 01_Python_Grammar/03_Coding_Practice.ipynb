{
 "cells": [
  {
   "cell_type": "markdown",
   "id": "89adfe87-8506-4e49-8e44-c1c041dc58ed",
   "metadata": {},
   "source": [
    "# 1. 전화번호 프로그램 만들기 \n",
    "- 홍길동 010-1234-5678 (따로따로?)\n",
    "- 기능1 : 연락처추가\n",
    "- 기능2 : 연락처 전체 보기\n",
    "- 기능3 : 검색, 이름을 입력받아서 전화번호 조회\n",
    "- 기능4 : 수정, 이름을 입력받아서 전화번호 입력 수정\n",
    "- 기능5 : 삭제, 이름 입력받아서 삭제\n",
    "- 기능6 : 프로그램 종료"
   ]
  },
  {
   "cell_type": "code",
   "execution_count": 48,
   "id": "fc19431b-0d36-4976-b2be-21398769bc4d",
   "metadata": {},
   "outputs": [
    {
     "name": "stdout",
     "output_type": "stream",
     "text": [
      "-----전화번호부 프로그램-----\n",
      "1.추가 2.조회 3.검색 4.수정 5.삭제 9.종료\n"
     ]
    },
    {
     "name": "stdin",
     "output_type": "stream",
     "text": [
      "메뉴를 선택해주세요 (숫자only) :  1\n"
     ]
    },
    {
     "name": "stdout",
     "output_type": "stream",
     "text": [
      "연락처를 추가합니다.\n"
     ]
    },
    {
     "name": "stdin",
     "output_type": "stream",
     "text": [
      "이름: 박\n",
      "전화번호 123\n"
     ]
    },
    {
     "name": "stdout",
     "output_type": "stream",
     "text": [
      "박 123\n",
      "-----전화번호부 프로그램-----\n",
      "1.추가 2.조회 3.검색 4.수정 5.삭제 9.종료\n"
     ]
    },
    {
     "name": "stdin",
     "output_type": "stream",
     "text": [
      "메뉴를 선택해주세요 (숫자only) :  1\n"
     ]
    },
    {
     "name": "stdout",
     "output_type": "stream",
     "text": [
      "연락처를 추가합니다.\n"
     ]
    },
    {
     "name": "stdin",
     "output_type": "stream",
     "text": [
      "이름: 김\n",
      "전화번호 456\n"
     ]
    },
    {
     "name": "stdout",
     "output_type": "stream",
     "text": [
      "김 456\n",
      "-----전화번호부 프로그램-----\n",
      "1.추가 2.조회 3.검색 4.수정 5.삭제 9.종료\n"
     ]
    },
    {
     "name": "stdin",
     "output_type": "stream",
     "text": [
      "메뉴를 선택해주세요 (숫자only) :  2\n"
     ]
    },
    {
     "name": "stdout",
     "output_type": "stream",
     "text": [
      "연락처를 조회합니다.\n",
      "박 : 123\n",
      "김 : 456\n",
      "-----전화번호부 프로그램-----\n",
      "1.추가 2.조회 3.검색 4.수정 5.삭제 9.종료\n"
     ]
    },
    {
     "name": "stdin",
     "output_type": "stream",
     "text": [
      "메뉴를 선택해주세요 (숫자only) :  3\n"
     ]
    },
    {
     "name": "stdout",
     "output_type": "stream",
     "text": [
      "연락처를 검색합니다.\n"
     ]
    },
    {
     "name": "stdin",
     "output_type": "stream",
     "text": [
      "검색 이름 : 박\n"
     ]
    },
    {
     "name": "stdout",
     "output_type": "stream",
     "text": [
      "123\n",
      "-----전화번호부 프로그램-----\n",
      "1.추가 2.조회 3.검색 4.수정 5.삭제 9.종료\n"
     ]
    },
    {
     "name": "stdin",
     "output_type": "stream",
     "text": [
      "메뉴를 선택해주세요 (숫자only) :  4\n"
     ]
    },
    {
     "name": "stdout",
     "output_type": "stream",
     "text": [
      "연락처를 조회합니다.\n"
     ]
    },
    {
     "name": "stdin",
     "output_type": "stream",
     "text": [
      "수정 이름 :  박\n",
      "새 전화번호: 555\n"
     ]
    },
    {
     "name": "stdout",
     "output_type": "stream",
     "text": [
      "-----전화번호부 프로그램-----\n",
      "1.추가 2.조회 3.검색 4.수정 5.삭제 9.종료\n"
     ]
    },
    {
     "name": "stdin",
     "output_type": "stream",
     "text": [
      "메뉴를 선택해주세요 (숫자only) :  4\n"
     ]
    },
    {
     "name": "stdout",
     "output_type": "stream",
     "text": [
      "연락처를 조회합니다.\n"
     ]
    },
    {
     "name": "stdin",
     "output_type": "stream",
     "text": [
      "수정 이름 :  최\n"
     ]
    },
    {
     "name": "stdout",
     "output_type": "stream",
     "text": [
      "등록되지 않은 이름입니다\n",
      "-----전화번호부 프로그램-----\n",
      "1.추가 2.조회 3.검색 4.수정 5.삭제 9.종료\n"
     ]
    },
    {
     "name": "stdin",
     "output_type": "stream",
     "text": [
      "메뉴를 선택해주세요 (숫자only) :  2\n"
     ]
    },
    {
     "name": "stdout",
     "output_type": "stream",
     "text": [
      "연락처를 조회합니다.\n",
      "박 : 555\n",
      "김 : 456\n",
      "-----전화번호부 프로그램-----\n",
      "1.추가 2.조회 3.검색 4.수정 5.삭제 9.종료\n"
     ]
    },
    {
     "name": "stdin",
     "output_type": "stream",
     "text": [
      "메뉴를 선택해주세요 (숫자only) :  5\n"
     ]
    },
    {
     "name": "stdout",
     "output_type": "stream",
     "text": [
      "연락처를 삭제합니다.\n"
     ]
    },
    {
     "name": "stdin",
     "output_type": "stream",
     "text": [
      "삭제 이름 :  김\n"
     ]
    },
    {
     "name": "stdout",
     "output_type": "stream",
     "text": [
      "-----전화번호부 프로그램-----\n",
      "1.추가 2.조회 3.검색 4.수정 5.삭제 9.종료\n"
     ]
    },
    {
     "name": "stdin",
     "output_type": "stream",
     "text": [
      "메뉴를 선택해주세요 (숫자only) :  2\n"
     ]
    },
    {
     "name": "stdout",
     "output_type": "stream",
     "text": [
      "연락처를 조회합니다.\n",
      "박 : 555\n",
      "-----전화번호부 프로그램-----\n",
      "1.추가 2.조회 3.검색 4.수정 5.삭제 9.종료\n"
     ]
    },
    {
     "name": "stdin",
     "output_type": "stream",
     "text": [
      "메뉴를 선택해주세요 (숫자only) :  9\n"
     ]
    },
    {
     "name": "stdout",
     "output_type": "stream",
     "text": [
      "프로그램을 종료합니다.\n"
     ]
    }
   ],
   "source": [
    "contact = {}\n",
    "\n",
    "while True:\n",
    "    print('-----전화번호부 프로그램-----')\n",
    "    print('1.추가 2.조회 3.검색 4.수정 5.삭제 9.종료')\n",
    "    menu = int(input('메뉴를 선택해주세요 (숫자only) : '))\n",
    "    \n",
    "    if menu == 1: #추가\n",
    "        print('연락처를 추가합니다.')\n",
    "        new_name = input('이름:')\n",
    "        new_tel = input('전화번호')\n",
    "        print(new_name, new_tel)\n",
    "        \n",
    "        # contact[new_name] = new_tel 대신 중복 입력 못하게 해보자\n",
    "        contact.setdefault(new_name, new_tel)\n",
    "\n",
    "    elif menu == 2: #조회\n",
    "        print('연락처를 조회합니다.')\n",
    "        # print(contact)\n",
    "        for name, tel in contact.items():\n",
    "            print(name, ':', tel)\n",
    "        \n",
    "    elif menu == 3: #검색\n",
    "        print('연락처를 검색합니다.')\n",
    "        search_name = input('검색 이름 :')\n",
    "        # print(contact[search_name])\n",
    "        print(contact.get (search_name, '없는 이름입니다.'))\n",
    "        \n",
    "        \n",
    "    elif menu == 4: #수정\n",
    "        print('연락처를 조회합니다.')\n",
    "        mod_name = input('수정 이름 : ')\n",
    "        \n",
    "        if mod_name in contact:\n",
    "            mod_tel = input('새 전화번호:')\n",
    "            contact[mod_name] = mod_tel\n",
    "        # 수정할 이름이 없다면 처음부터 알려주는 게 편하겠다 \n",
    "        else:\n",
    "            print('등록되지 않은 이름입니다')\n",
    "        \n",
    "    elif menu == 5: #삭제\n",
    "        print('연락처를 삭제합니다.')\n",
    "        del_name = input('삭제 이름 : ')\n",
    "        \n",
    "        if del_name in contact:\n",
    "            del contact [del_name] \n",
    "        else:\n",
    "            print('등록되지 않은 이름입니다')\n",
    "        \n",
    "    elif menu == 9: #종료\n",
    "        print('프로그램을 종료합니다.')\n",
    "        \n",
    "        break\n",
    "    else :\n",
    "        print('잘못된 입력입니다')"
   ]
  },
  {
   "cell_type": "code",
   "execution_count": null,
   "id": "3e066471-19b0-46d5-bc8b-40f246ec1f98",
   "metadata": {},
   "outputs": [],
   "source": []
  }
 ],
 "metadata": {
  "kernelspec": {
   "display_name": "Python 3 (ipykernel)",
   "language": "python",
   "name": "python3"
  },
  "language_info": {
   "codemirror_mode": {
    "name": "ipython",
    "version": 3
   },
   "file_extension": ".py",
   "mimetype": "text/x-python",
   "name": "python",
   "nbconvert_exporter": "python",
   "pygments_lexer": "ipython3",
   "version": "3.12.4"
  }
 },
 "nbformat": 4,
 "nbformat_minor": 5
}
