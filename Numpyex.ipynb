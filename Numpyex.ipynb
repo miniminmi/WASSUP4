{
 "cells": [
  {
   "cell_type": "code",
   "execution_count": 1,
   "id": "ed3f12c0-d9b9-4e23-a9e6-66ac812695bf",
   "metadata": {},
   "outputs": [],
   "source": [
    "# Numpy\n",
    "# Numerical Python\n",
    "# 고성능 수치 계산을 위한 라이브러리\n",
    "# 벡터나 행렬 연산에 편리한 기능 제공\n",
    "# 모든 원소는 같은 자료형만 가능"
   ]
  },
  {
   "cell_type": "code",
   "execution_count": 2,
   "id": "62566290-a887-4b28-8120-3fac54cfb3c8",
   "metadata": {},
   "outputs": [
    {
     "name": "stdout",
     "output_type": "stream",
     "text": [
      "[ 0  1  2  3  4  5  6  7  8  9 10 11 12 13 14]\n",
      "[[ 0  3  6  9 12]\n",
      " [ 1  4  7 10 13]\n",
      " [ 2  5  8 11 14]]\n",
      "<class 'numpy.ndarray'>\n",
      "(3, 5)\n",
      "int32\n",
      "2\n",
      "15\n",
      "['ALLOW_THREADS', 'BUFSIZE', 'CLIP', 'DataSource', 'ERR_CALL', 'ERR_DEFAULT', 'ERR_IGNORE', 'ERR_LOG', 'ERR_PRINT', 'ERR_RAISE', 'ERR_WARN', 'FLOATING_POINT_SUPPORT', 'FPE_DIVIDEBYZERO', 'FPE_INVALID', 'FPE_OVERFLOW', 'FPE_UNDERFLOW', 'False_', 'Inf', 'Infinity', 'MAXDIMS', 'MAY_SHARE_BOUNDS', 'MAY_SHARE_EXACT', 'NAN', 'NINF', 'NZERO', 'NaN', 'PINF', 'PZERO', 'RAISE', 'RankWarning', 'SHIFT_DIVIDEBYZERO', 'SHIFT_INVALID', 'SHIFT_OVERFLOW', 'SHIFT_UNDERFLOW', 'ScalarType', 'True_', 'UFUNC_BUFSIZE_DEFAULT', 'UFUNC_PYVALS_NAME', 'WRAP', '_CopyMode', '_NoValue', '_UFUNC_API', '__NUMPY_SETUP__', '__all__', '__builtins__', '__cached__', '__config__', '__deprecated_attrs__', '__dir__', '__doc__', '__expired_functions__', '__file__', '__former_attrs__', '__future_scalars__', '__getattr__', '__loader__', '__name__', '__package__', '__path__', '__spec__', '__version__', '_add_newdoc_ufunc', '_builtins', '_distributor_init', '_financial_names', '_get_promotion_state', '_globals', '_int_extended_msg', '_mat', '_no_nep50_warning', '_pyinstaller_hooks_dir', '_pytesttester', '_set_promotion_state', '_specific_msg', '_typing', '_using_numpy2_behavior', '_utils', 'abs', 'absolute', 'add', 'add_docstring', 'add_newdoc', 'add_newdoc_ufunc', 'all', 'allclose', 'alltrue', 'amax', 'amin', 'angle', 'any', 'append', 'apply_along_axis', 'apply_over_axes', 'arange', 'arccos', 'arccosh', 'arcsin', 'arcsinh', 'arctan', 'arctan2', 'arctanh', 'argmax', 'argmin', 'argpartition', 'argsort', 'argwhere', 'around', 'array', 'array2string', 'array_equal', 'array_equiv', 'array_repr', 'array_split', 'array_str', 'asanyarray', 'asarray', 'asarray_chkfinite', 'ascontiguousarray', 'asfarray', 'asfortranarray', 'asmatrix', 'atleast_1d', 'atleast_2d', 'atleast_3d', 'average', 'bartlett', 'base_repr', 'binary_repr', 'bincount', 'bitwise_and', 'bitwise_not', 'bitwise_or', 'bitwise_xor', 'blackman', 'block', 'bmat', 'bool_', 'broadcast', 'broadcast_arrays', 'broadcast_shapes', 'broadcast_to', 'busday_count', 'busday_offset', 'busdaycalendar', 'byte', 'byte_bounds', 'bytes_', 'c_', 'can_cast', 'cast', 'cbrt', 'cdouble', 'ceil', 'cfloat', 'char', 'character', 'chararray', 'choose', 'clip', 'clongdouble', 'clongfloat', 'column_stack', 'common_type', 'compare_chararrays', 'compat', 'complex128', 'complex64', 'complex_', 'complexfloating', 'compress', 'concatenate', 'conj', 'conjugate', 'convolve', 'copy', 'copysign', 'copyto', 'corrcoef', 'correlate', 'cos', 'cosh', 'count_nonzero', 'cov', 'cross', 'csingle', 'ctypeslib', 'cumprod', 'cumproduct', 'cumsum', 'datetime64', 'datetime_as_string', 'datetime_data', 'deg2rad', 'degrees', 'delete', 'deprecate', 'deprecate_with_doc', 'diag', 'diag_indices', 'diag_indices_from', 'diagflat', 'diagonal', 'diff', 'digitize', 'disp', 'divide', 'divmod', 'dot', 'double', 'dsplit', 'dstack', 'dtype', 'dtypes', 'e', 'ediff1d', 'einsum', 'einsum_path', 'emath', 'empty', 'empty_like', 'equal', 'errstate', 'euler_gamma', 'exceptions', 'exp', 'exp2', 'expand_dims', 'expm1', 'extract', 'eye', 'fabs', 'fastCopyAndTranspose', 'fft', 'fill_diagonal', 'find_common_type', 'finfo', 'fix', 'flatiter', 'flatnonzero', 'flexible', 'flip', 'fliplr', 'flipud', 'float16', 'float32', 'float64', 'float_', 'float_power', 'floating', 'floor', 'floor_divide', 'fmax', 'fmin', 'fmod', 'format_float_positional', 'format_float_scientific', 'format_parser', 'frexp', 'from_dlpack', 'frombuffer', 'fromfile', 'fromfunction', 'fromiter', 'frompyfunc', 'fromregex', 'fromstring', 'full', 'full_like', 'gcd', 'generic', 'genfromtxt', 'geomspace', 'get_array_wrap', 'get_include', 'get_printoptions', 'getbufsize', 'geterr', 'geterrcall', 'geterrobj', 'gradient', 'greater', 'greater_equal', 'half', 'hamming', 'hanning', 'heaviside', 'histogram', 'histogram2d', 'histogram_bin_edges', 'histogramdd', 'hsplit', 'hstack', 'hypot', 'i0', 'identity', 'iinfo', 'imag', 'in1d', 'index_exp', 'indices', 'inexact', 'inf', 'info', 'infty', 'inner', 'insert', 'int16', 'int32', 'int64', 'int8', 'int_', 'intc', 'integer', 'interp', 'intersect1d', 'intp', 'invert', 'is_busday', 'isclose', 'iscomplex', 'iscomplexobj', 'isfinite', 'isfortran', 'isin', 'isinf', 'isnan', 'isnat', 'isneginf', 'isposinf', 'isreal', 'isrealobj', 'isscalar', 'issctype', 'issubclass_', 'issubdtype', 'issubsctype', 'iterable', 'ix_', 'kaiser', 'kron', 'lcm', 'ldexp', 'left_shift', 'less', 'less_equal', 'lexsort', 'lib', 'linalg', 'linspace', 'little_endian', 'load', 'loadtxt', 'log', 'log10', 'log1p', 'log2', 'logaddexp', 'logaddexp2', 'logical_and', 'logical_not', 'logical_or', 'logical_xor', 'logspace', 'longcomplex', 'longdouble', 'longfloat', 'longlong', 'lookfor', 'ma', 'mask_indices', 'mat', 'matmul', 'matrix', 'max', 'maximum', 'maximum_sctype', 'may_share_memory', 'mean', 'median', 'memmap', 'meshgrid', 'mgrid', 'min', 'min_scalar_type', 'minimum', 'mintypecode', 'mod', 'modf', 'moveaxis', 'msort', 'multiply', 'nan', 'nan_to_num', 'nanargmax', 'nanargmin', 'nancumprod', 'nancumsum', 'nanmax', 'nanmean', 'nanmedian', 'nanmin', 'nanpercentile', 'nanprod', 'nanquantile', 'nanstd', 'nansum', 'nanvar', 'nbytes', 'ndarray', 'ndenumerate', 'ndim', 'ndindex', 'nditer', 'negative', 'nested_iters', 'newaxis', 'nextafter', 'nonzero', 'not_equal', 'numarray', 'number', 'obj2sctype', 'object_', 'ogrid', 'oldnumeric', 'ones', 'ones_like', 'outer', 'packbits', 'pad', 'partition', 'percentile', 'pi', 'piecewise', 'place', 'poly', 'poly1d', 'polyadd', 'polyder', 'polydiv', 'polyfit', 'polyint', 'polymul', 'polynomial', 'polysub', 'polyval', 'positive', 'power', 'printoptions', 'prod', 'product', 'promote_types', 'ptp', 'put', 'put_along_axis', 'putmask', 'quantile', 'r_', 'rad2deg', 'radians', 'random', 'ravel', 'ravel_multi_index', 'real', 'real_if_close', 'rec', 'recarray', 'recfromcsv', 'recfromtxt', 'reciprocal', 'record', 'remainder', 'repeat', 'require', 'reshape', 'resize', 'result_type', 'right_shift', 'rint', 'roll', 'rollaxis', 'roots', 'rot90', 'round', 'round_', 'row_stack', 's_', 'safe_eval', 'save', 'savetxt', 'savez', 'savez_compressed', 'sctype2char', 'sctypeDict', 'sctypes', 'searchsorted', 'select', 'set_numeric_ops', 'set_printoptions', 'set_string_function', 'setbufsize', 'setdiff1d', 'seterr', 'seterrcall', 'seterrobj', 'setxor1d', 'shape', 'shares_memory', 'short', 'show_config', 'show_runtime', 'sign', 'signbit', 'signedinteger', 'sin', 'sinc', 'single', 'singlecomplex', 'sinh', 'size', 'sometrue', 'sort', 'sort_complex', 'source', 'spacing', 'split', 'sqrt', 'square', 'squeeze', 'stack', 'std', 'str_', 'string_', 'subtract', 'sum', 'swapaxes', 'take', 'take_along_axis', 'tan', 'tanh', 'tensordot', 'test', 'testing', 'tile', 'timedelta64', 'trace', 'tracemalloc_domain', 'transpose', 'trapz', 'tri', 'tril', 'tril_indices', 'tril_indices_from', 'trim_zeros', 'triu', 'triu_indices', 'triu_indices_from', 'true_divide', 'trunc', 'typecodes', 'typename', 'ubyte', 'ufunc', 'uint', 'uint16', 'uint32', 'uint64', 'uint8', 'uintc', 'uintp', 'ulonglong', 'unicode_', 'union1d', 'unique', 'unpackbits', 'unravel_index', 'unsignedinteger', 'unwrap', 'ushort', 'vander', 'var', 'vdot', 'vectorize', 'version', 'void', 'vsplit', 'vstack', 'where', 'who', 'zeros', 'zeros_like']\n"
     ]
    }
   ],
   "source": [
    "import numpy as np\n",
    "a = np.arange( 15 )\n",
    "print( a )\n",
    "a = a.reshape( 3, 5, order='F' ) #C행부터 할당 F열부터 할당 \n",
    "print( a )\n",
    "print( type ( a ) )\n",
    "print( a.shape )\n",
    "print( a.dtype )\n",
    "print( a.ndim )\n",
    "print( a.size )\n",
    "\n",
    "print( dir ( np ) )"
   ]
  },
  {
   "cell_type": "code",
   "execution_count": 3,
   "id": "e36daa03-c849-4831-bcd9-8b24276f4bf0",
   "metadata": {},
   "outputs": [
    {
     "name": "stdout",
     "output_type": "stream",
     "text": [
      "0\n",
      "1\n",
      "2\n",
      "3\n",
      "4\n",
      "5\n",
      "6\n",
      "7\n",
      "8\n",
      "9\n"
     ]
    }
   ],
   "source": [
    "for i in range( 10 ):\n",
    "    print(i)"
   ]
  },
  {
   "cell_type": "code",
   "execution_count": 4,
   "id": "da5affb6-f7a4-44a7-9b51-a74e42b40cb1",
   "metadata": {},
   "outputs": [
    {
     "name": "stdout",
     "output_type": "stream",
     "text": [
      "[[ 0  3  6  9 12]\n",
      " [ 1  4  7 10 13]\n",
      " [ 2  5  8 11 14]]\n"
     ]
    }
   ],
   "source": [
    "print ( a )"
   ]
  },
  {
   "cell_type": "code",
   "execution_count": 5,
   "id": "34852cd1-24f5-46b5-a0ad-b3620ab40f7a",
   "metadata": {},
   "outputs": [
    {
     "name": "stdout",
     "output_type": "stream",
     "text": [
      "<class 'list'>\n",
      "<class 'numpy.ndarray'>\n",
      "(1, 2, 3, 4)\n",
      "<class 'numpy.ndarray'>\n"
     ]
    }
   ],
   "source": [
    "b = [-1, 2, 0, 2, 11, -81, 5, 0, -4, 13] #List\n",
    "print( type ( b ) )\n",
    "b = np.array( b )\n",
    "print( type ( b ) )\n",
    "\n",
    "t = ( 1, 2, 3, 4)  #tuple\n",
    "print( t )\n",
    "t = np.array ( t )\n",
    "print( type ( t ) )"
   ]
  },
  {
   "cell_type": "code",
   "execution_count": 6,
   "id": "bb029974-ee36-43a2-8e11-16458e583cb8",
   "metadata": {},
   "outputs": [
    {
     "name": "stdout",
     "output_type": "stream",
     "text": [
      "(10,)\n",
      "1\n",
      "int32\n",
      "[ 1  2  0  2 11 81  5  0  4 13]\n",
      "[1.         1.41421356 0.         1.41421356 3.31662479 9.\n",
      " 2.23606798 0.         2.         3.60555128]\n",
      "[   1    4    0    4  121 6561   25    0   16  169]\n",
      "[False False False False False False False False False False]\n",
      "-53\n",
      "-5.3\n",
      "13\n",
      "-81\n",
      "9\n",
      "5\n",
      "[-81  -4  -1   0   0   2   2   5  11  13]\n",
      "[ 13  11   5   2   2   0   0  -1  -4 -81]\n",
      "1.0\n"
     ]
    }
   ],
   "source": [
    "print( b. shape )\n",
    "print( b. ndim )\n",
    "print( b. dtype)\n",
    "\n",
    "# print( help( np.arange ) )\n",
    "\n",
    "print( np.abs ( b ) ) #절대값 \n",
    "# print( np.sqrt( b  ) )  제곱근 \n",
    "print( np.sqrt( np.abs( b ) ) ) #절대값으로 바꾼 자료가 넘어온다 (총 3개 함수)\n",
    "print ( np.square( b ) ) #제곱하기 \n",
    "print ( np.isnan( b ) ) #nan이냐 \n",
    "print ( np. sum ( b ) ) #합계\n",
    "print ( np. mean ( b ) ) #평균\n",
    "print ( np. max ( b ) ) #최대값\n",
    "print ( np. min ( b ) ) #최솟값\n",
    "print ( np. argmax ( b ) ) #제일 큰 값의 위치값(인덱스)을 알려준다 \n",
    "print ( np. argmin ( b ) ) #제일 작은 값의 위치값(인덱스)을 알려준다\n",
    "print ( np. sort ( b ) ) #정렬 오름차순\n",
    "print ( np. sort ( b ) [::-1] ) #정렬 내림차순 (거꾸로 바꿔주기) [시간:끝:증강값(간격)]\n",
    "print ( np. median ( b ) ) #중앙값 "
   ]
  },
  {
   "cell_type": "markdown",
   "id": "b97aab7f-6f62-42da-9433-ad8d1b29143a",
   "metadata": {},
   "source": [
    "---"
   ]
  },
  {
   "cell_type": "code",
   "execution_count": 8,
   "id": "10cd5f4f-8460-4f63-981b-2a1343ed772a",
   "metadata": {},
   "outputs": [],
   "source": [
    "# 2차원 데이터로 만들기 "
   ]
  },
  {
   "cell_type": "code",
   "execution_count": 9,
   "id": "6ad3b34d-3295-43d1-9e89-0d804dbeea90",
   "metadata": {},
   "outputs": [
    {
     "name": "stdout",
     "output_type": "stream",
     "text": [
      "[[1, 2, 3], [4, 5, 6]]\n",
      "<class 'list'>\n",
      "<class 'numpy.ndarray'>\n",
      "[[1 2 3]\n",
      " [4 5 6]]\n",
      "21\n",
      "[5 7 9]\n",
      "[ 6 15]\n",
      "3.5\n",
      "[2.5 3.5 4.5]\n",
      "[2. 5.]\n",
      "3.5\n",
      "[2.5 3.5 4.5]\n",
      "[2. 5.]\n",
      "1.707825127659933\n",
      "2.9166666666666665\n"
     ]
    }
   ],
   "source": [
    "c = [ [ 1, 2, 3 ], [4, 5, 6] ]\n",
    "print ( c )\n",
    "print ( type ( c ) )\n",
    "c = np.array( c )\n",
    "print ( type ( c ) )\n",
    "print ( c )\n",
    "\n",
    "print ( np.sum ( c ) )\n",
    "print ( np.sum ( c, axis=0 ) )\n",
    "print ( np.sum ( c, axis=1 ) )\n",
    "print ( np.mean ( c ) )\n",
    "print ( np.mean ( c, axis=0 ) )\n",
    "print ( np.mean ( c, axis=1 ) )\n",
    "print ( np.median ( c ) )\n",
    "print ( np.median ( c, axis=0 ) )\n",
    "print ( np.median ( c, axis=1 ) )\n",
    "\n",
    "print ( np.std ( c ) ) #표준편차\n",
    "print ( np.var ( c ) ) #분산 "
   ]
  },
  {
   "cell_type": "code",
   "execution_count": 10,
   "id": "99b6c8bf-de73-41b7-83b3-b060b1569b6c",
   "metadata": {},
   "outputs": [
    {
     "name": "stdout",
     "output_type": "stream",
     "text": [
      "[12 22 32 42 52]\n",
      "[11 22 33 44 55]\n",
      "[       10       400     27000   2560000 312500000]\n",
      "[ -5.44021111  18.25890501 -29.64094872  29.80452642 -13.11874269]\n",
      "[False False False  True  True]\n",
      "[11 22 33 44 55]\n",
      "[ 9 18 27 36 45]\n",
      "[ 10  40  90 160 250]\n",
      "[10. 10. 10. 10. 10.]\n"
     ]
    }
   ],
   "source": [
    "# element wise\n",
    "d = [10, 20, 30, 40, 50]\n",
    "# print( d + 2 )  error case\n",
    "d = np.array( d )\n",
    "print(d + 2)\n",
    "\n",
    "e = np.array( [ 1, 2, 3, 4, 5] )\n",
    "print( d + e )\n",
    "print( d ** e )\n",
    "print( d * np.sin( d ) )\n",
    "print( d > 35 )\n",
    "\n",
    "print( np.add( d, e ) )\n",
    "print( np.subtract( d, e ) )\n",
    "print( np.multiply( d, e ) )\n",
    "print( np.divide( d, e ) )"
   ]
  },
  {
   "cell_type": "code",
   "execution_count": 11,
   "id": "4315b7e4-6ad9-425a-9a7d-3a06c30e4baa",
   "metadata": {},
   "outputs": [
    {
     "ename": "TypeError",
     "evalue": "Field elements must be 2- or 3-tuples, got '1'",
     "output_type": "error",
     "traceback": [
      "\u001b[1;31m---------------------------------------------------------------------------\u001b[0m",
      "\u001b[1;31mTypeError\u001b[0m                                 Traceback (most recent call last)",
      "Cell \u001b[1;32mIn[11], line 1\u001b[0m\n\u001b[1;32m----> 1\u001b[0m f\u001b[38;5;241m=\u001b[39m np\u001b[38;5;241m.\u001b[39marray( [ \u001b[38;5;241m0\u001b[39m, \u001b[38;5;241m1\u001b[39m], [\u001b[38;5;241m1\u001b[39m, \u001b[38;5;241m1\u001b[39m] )\n\u001b[0;32m      2\u001b[0m g \u001b[38;5;241m=\u001b[39m np\u001b[38;5;241m.\u001b[39marray( [ \u001b[38;5;241m2\u001b[39m, \u001b[38;5;241m0\u001b[39m], [\u001b[38;5;241m3\u001b[39m, \u001b[38;5;241m4\u001b[39m] )\n\u001b[0;32m      3\u001b[0m \u001b[38;5;28mprint\u001b[39m(f\u001b[38;5;241m*\u001b[39mg) \u001b[38;5;66;03m#그냥 곱셈 \u001b[39;00m\n",
      "\u001b[1;31mTypeError\u001b[0m: Field elements must be 2- or 3-tuples, got '1'"
     ]
    }
   ],
   "source": [
    "f= np.array( [ 0, 1], [1, 1] )\n",
    "g = np.array( [ 2, 0], [3, 4] )\n",
    "print(f*g) #그냥 곱셈 \n",
    "print(f@g) #행렬곱"
   ]
  },
  {
   "cell_type": "code",
   "execution_count": null,
   "id": "e016c8c7-7f87-4ff1-8311-a3b1237db10e",
   "metadata": {},
   "outputs": [],
   "source": [
    "h = np.zeros(10)\n",
    "print(h)\n",
    "i = np.zeros( ( 5, 5 ))\n",
    "print(i)\n",
    "j = np.ones ( 10 )\n",
    "print(j)"
   ]
  },
  {
   "cell_type": "code",
   "execution_count": null,
   "id": "4724fcb4-734f-4a76-b51c-c9ef2731aeed",
   "metadata": {},
   "outputs": [],
   "source": [
    "k = np.random.random(10)*100\n",
    "k = [int(i) for i in k]\n",
    "print( type ( k ) )\n",
    "print( k )\n",
    "\n",
    "print(np.random.randint(10, 20))\n",
    "print(np.random.rand(10))"
   ]
  },
  {
   "cell_type": "code",
   "execution_count": null,
   "id": "8b3321b3-3848-4ecd-82a8-8fbd67bf5d02",
   "metadata": {},
   "outputs": [],
   "source": [
    "# 슬라이싱\n",
    "m = [i for i in range(10, 20) ]\n",
    "print( m[0:5])\n",
    "print( m[0:5:2])\n",
    "print( m[:])\n",
    "print( m[:-1])\n",
    "\n",
    "# ndarray\n",
    "w = np.arange(10, 20)\n",
    "print( w[0:5] )\n",
    "print( w[0:5:2] )"
   ]
  },
  {
   "cell_type": "code",
   "execution_count": null,
   "id": "c742bbf4-0e81-42f0-8127-42053ad1c446",
   "metadata": {},
   "outputs": [],
   "source": [
    "r = [[1,2,3,4,5], [6,7,8,9,10], [11,12,13,14,15]]\n",
    "print(r[2][2])\n",
    "print(r[:][:])\n",
    "print(r[2][:])\n",
    "print(r[:2][:1])\n",
    "\n",
    "# print(r[:, :]) error\n",
    "\n",
    "s = np.arange(1, 16).reshape(3,5)\n",
    "print(s)\n",
    "print(s[2][2])\n",
    "print(s[:][:])\n",
    "print(s[:, :])\n",
    "print(s[:2, :2])\n",
    "print(s[::-1, ::-1])\n",
    "print(s[[0,2]])\n",
    "print(s[:,[1,3,4]]) #행은 다가져오고, 열은 1,3,4열로 가져와\n",
    "print(s[[0,2],[3,4]]) #0행의 3열, 2행의 4열 데이터 하나를 가져와"
   ]
  },
  {
   "cell_type": "code",
   "execution_count": null,
   "id": "f3a2c251-3f27-4183-9a82-22b07c1f2ac8",
   "metadata": {},
   "outputs": [],
   "source": [
    "# 전치 행렬\n",
    "print(s)       #3행 5열\n",
    "print(s.T)     #5행 3열"
   ]
  },
  {
   "cell_type": "code",
   "execution_count": 16,
   "id": "7f35d07a-991f-4b65-bd6e-ead7b544bc56",
   "metadata": {},
   "outputs": [
    {
     "name": "stdout",
     "output_type": "stream",
     "text": [
      "(1, 4)\n",
      "(2, 5)\n",
      "(3, 6)\n",
      "[(1, 4), (2, 5), (3, 6)]\n",
      "[1, 2, 3, 4, 5, 6]\n",
      "[1, 2, 3, 1, 2, 3]\n"
     ]
    }
   ],
   "source": [
    "# 결합 / 분리\n",
    "a = [1,2,3]\n",
    "b = [4,5,6]\n",
    "for ab in zip(a,b) :\n",
    "    print(ab)\n",
    "print(list(zip(a, b)))\n",
    "print(a+b)\n",
    "print(a*2)\n",
    "#print(a+2)  에러"
   ]
  },
  {
   "cell_type": "code",
   "execution_count": 30,
   "id": "b18abe5b-7dfb-4b4a-a5b3-3c6d4a5140fd",
   "metadata": {},
   "outputs": [
    {
     "name": "stdout",
     "output_type": "stream",
     "text": [
      "[[97. 60.  4. 40. 81. 11. 15. 81. 20. 24. 20. 65. 95. 37. 14.]\n",
      " [ 3. 61. 49. 65.  0. 10. 58. 90.  8. 95. 39. 87. 81. 30. 96.]]\n",
      "[array([[97., 60.,  4., 40., 81.],\n",
      "       [ 3., 61., 49., 65.,  0.]]), array([[11., 15., 81., 20., 24.],\n",
      "       [10., 58., 90.,  8., 95.]]), array([[20., 65., 95., 37., 14.],\n",
      "       [39., 87., 81., 30., 96.]])]\n",
      "[[97. 60.  4. 40. 81.]\n",
      " [ 3. 61. 49. 65.  0.]]\n",
      "[[11. 15. 81. 20. 24.]\n",
      " [10. 58. 90.  8. 95.]]\n",
      "[[20. 65. 95. 37. 14.]\n",
      " [39. 87. 81. 30. 96.]]\n",
      "[[97. 60.  4.]\n",
      " [ 3. 61. 49.]]\n",
      "[[40. 81. 11. 15.]\n",
      " [65.  0. 10. 58.]]\n",
      "[[81. 20. 24. 20. 65. 95. 37. 14.]\n",
      " [90.  8. 95. 39. 87. 81. 30. 96.]]\n"
     ]
    }
   ],
   "source": [
    "e = np.floor(np.random.rand(2, 15) * 100)\n",
    "print(e)\n",
    "print(np.hsplit(e, 3))  #3개로 잘라라\n",
    "for arr in np.hsplit(e,3) :\n",
    "    print(arr)\n",
    "for arr in np.hsplit(e, (3,7)):   #[0:3]=0,1,2 인덱스 자르고 [3:7] 3~6까지 자르고 [7:] 7번인덱스부터 마지막까지 \n",
    "    print(arr)"
   ]
  },
  {
   "cell_type": "code",
   "execution_count": 48,
   "id": "bdf9b8d5-4425-46d5-a1bd-fb9cecadacd1",
   "metadata": {},
   "outputs": [
    {
     "name": "stdout",
     "output_type": "stream",
     "text": [
      "[1, 2, 'c', 'd', 5]\n",
      "['1' '2' 'c' 'd' '5']\n",
      "['작아용' '작아용' '커용' '커용' '커용']\n",
      "['참' '참' '거짓' '거짓' '참']\n"
     ]
    }
   ],
   "source": [
    "f = np.array([1,2,3,4,5])\n",
    "g = np.array(['a','b','c','d','e'])\n",
    "h = np.array([True, True, False, False, True])\n",
    "# 삼항연산  조건?참:거짓\n",
    "#          (참일떄실행할 것) IF (조건) else (거짓일때실행할것)\n",
    "\n",
    "# print([[x,y,z] for x,y,z in zip(f,g,h)])\n",
    "\n",
    "print([x if z else y for x,y,z in zip(f,g,h)])\n",
    "print(np.where(h, f, g))\n",
    "print(np.where(f <3, '작아용', '커용'))\n",
    "print(np.where(h, '참','거짓'))"
   ]
  },
  {
   "cell_type": "code",
   "execution_count": 68,
   "id": "1018ce33-6e53-4dc0-82fa-67c665790147",
   "metadata": {},
   "outputs": [
    {
     "name": "stdout",
     "output_type": "stream",
     "text": [
      "[0 1 2 3 4 5 6 7 8 9]\n",
      "<class 'numpy.ndarray'>\n"
     ]
    },
    {
     "ename": "AttributeError",
     "evalue": "module 'numpy' has no attribute 'arang'",
     "output_type": "error",
     "traceback": [
      "\u001b[1;31m---------------------------------------------------------------------------\u001b[0m",
      "\u001b[1;31mAttributeError\u001b[0m                            Traceback (most recent call last)",
      "Cell \u001b[1;32mIn[68], line 11\u001b[0m\n\u001b[0;32m      8\u001b[0m \u001b[38;5;28mprint\u001b[39m(\u001b[38;5;28mtype\u001b[39m(ii))\n\u001b[0;32m     10\u001b[0m \u001b[38;5;66;03m#여러개 파일 넣을 떄\u001b[39;00m\n\u001b[1;32m---> 11\u001b[0m j \u001b[38;5;241m=\u001b[39m np\u001b[38;5;241m.\u001b[39marang(\u001b[38;5;241m10\u001b[39m)\n\u001b[0;32m     12\u001b[0m k \u001b[38;5;241m=\u001b[39m np\u001b[38;5;241m.\u001b[39marang(\u001b[38;5;241m20\u001b[39m)\n\u001b[0;32m     13\u001b[0m np\u001b[38;5;241m.\u001b[39msavez(\u001b[38;5;124m'\u001b[39m\u001b[38;5;124mjk.npz\u001b[39m\u001b[38;5;124m'\u001b[39m, x\u001b[38;5;241m=\u001b[39mj, y\u001b[38;5;241m=\u001b[39mk)\n",
      "File \u001b[1;32m~\\anaconda3\\Lib\\site-packages\\numpy\\__init__.py:333\u001b[0m, in \u001b[0;36m__getattr__\u001b[1;34m(attr)\u001b[0m\n\u001b[0;32m    330\u001b[0m     \u001b[38;5;124m\"\u001b[39m\u001b[38;5;124mRemoved in NumPy 1.25.0\u001b[39m\u001b[38;5;124m\"\u001b[39m\n\u001b[0;32m    331\u001b[0m     \u001b[38;5;28;01mraise\u001b[39;00m \u001b[38;5;167;01mRuntimeError\u001b[39;00m(\u001b[38;5;124m\"\u001b[39m\u001b[38;5;124mTester was removed in NumPy 1.25.\u001b[39m\u001b[38;5;124m\"\u001b[39m)\n\u001b[1;32m--> 333\u001b[0m \u001b[38;5;28;01mraise\u001b[39;00m \u001b[38;5;167;01mAttributeError\u001b[39;00m(\u001b[38;5;124m\"\u001b[39m\u001b[38;5;124mmodule \u001b[39m\u001b[38;5;132;01m{!r}\u001b[39;00m\u001b[38;5;124m has no attribute \u001b[39m\u001b[38;5;124m\"\u001b[39m\n\u001b[0;32m    334\u001b[0m                      \u001b[38;5;124m\"\u001b[39m\u001b[38;5;132;01m{!r}\u001b[39;00m\u001b[38;5;124m\"\u001b[39m\u001b[38;5;241m.\u001b[39mformat(\u001b[38;5;18m__name__\u001b[39m, attr))\n",
      "\u001b[1;31mAttributeError\u001b[0m: module 'numpy' has no attribute 'arang'"
     ]
    }
   ],
   "source": [
    "#저장할떄\n",
    "i = np.arange(10)\n",
    "np.save('i.npy', i)\n",
    "\n",
    "#꺼내 쓸 떄\n",
    "ii = np.load('i.npy')\n",
    "print(ii)\n",
    "print(type(ii))\n",
    "\n",
    "#여러개 파일 넣을 떄\n",
    "j = np.arang(10)\n",
    "k = np.arang(20)\n",
    "np.savez('jk.npz', x=j, y=k)\n",
    "jk = np.load('jk.npz')\n",
    "print(type(jk))\n",
    "print(jk['x'])\n",
    "print(jk['y'])"
   ]
  }
 ],
 "metadata": {
  "kernelspec": {
   "display_name": "Python 3 (ipykernel)",
   "language": "python",
   "name": "python3"
  },
  "language_info": {
   "codemirror_mode": {
    "name": "ipython",
    "version": 3
   },
   "file_extension": ".py",
   "mimetype": "text/x-python",
   "name": "python",
   "nbconvert_exporter": "python",
   "pygments_lexer": "ipython3",
   "version": "3.12.4"
  }
 },
 "nbformat": 4,
 "nbformat_minor": 5
}
