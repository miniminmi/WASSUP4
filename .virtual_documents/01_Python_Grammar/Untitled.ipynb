





a = 1
print(a)


b = 'python'
b


c = [1,2,3]
c





a = 123
a


a = -187
a


a = 0
a





a = 1.2
b = -3.45
a,b


a = 4.35E10
a


a = 4.35E-10
a





a = 0o177
print(a)








a = 3
b = 4
a + b


a-b, a+b, a/b, a*b





a ** b





7% 3, 3%7





7 // 5





a = a + 1
a


a -= 1
a
