{
 "cells": [
  {
   "cell_type": "markdown",
   "id": "6f17d151",
   "metadata": {
    "tags": [],
    "toc-hr-collapsed": true
   },
   "source": [
    "# Numpy Quiz"
   ]
  },
  {
   "cell_type": "markdown",
   "id": "822f98fc",
   "metadata": {},
   "source": [
    "## Q1. 다음과 같은 리스트를 이용하여 넘파이 배열을 만들고 전체 갯수, 차원, 데이터형, 구조를 출력하여라\n",
    "```\n",
    "['강아지', '원숭이', '꽃', '45', '100']\n",
    "\n",
    "array(['강아지', '원숭이', '꽃', '45', '100'], dtype='<U3')\n",
    "차원 ? 1\n",
    "전체 갯수 ? 5\n",
    "데이터형 ? <U3\n",
    "전체 구조  ? (5,)\n",
    "```"
   ]
  },
  {
   "cell_type": "code",
   "execution_count": 26,
   "id": "57a5c6c5-660c-4f82-99a1-a578a300f8cd",
   "metadata": {},
   "outputs": [
    {
     "name": "stdout",
     "output_type": "stream",
     "text": [
      "['강아지' '원숭이' '꽃' '45' '100']\n",
      "차원:1, 전체 갯수:5, 데이터형:<U3, 전체 구조 : (5,)\n"
     ]
    }
   ],
   "source": [
    "import numpy as np\n",
    "list=['강아지', '원숭이', '꽃', '45', '100']\n",
    "mlist = np.array(list)\n",
    "print(mlist)\n",
    "print(f'차원:{mlist.ndim}, 전체 갯수:{len(mlist)}, 데이터형:{mlist.dtype}, 전체 구조 : {mlist.shape}')\n"
   ]
  },
  {
   "cell_type": "markdown",
   "id": "e1cef698",
   "metadata": {},
   "source": [
    "## Q2. np.ones()를 이용하여2행 3열의 넘파이 배열을 생성하여라\n",
    "\n",
    "array([[1., 1., 1.],\n",
    "       [1., 1., 1.]])"
   ]
  },
  {
   "cell_type": "code",
   "execution_count": 27,
   "id": "fc428147-8468-487e-96e3-21141f9dfe88",
   "metadata": {},
   "outputs": [
    {
     "name": "stdout",
     "output_type": "stream",
     "text": [
      "[[1. 1. 1.]\n",
      " [1. 1. 1.]]\n"
     ]
    }
   ],
   "source": [
    "array = np.ones((2,3))\n",
    "print(array)"
   ]
  },
  {
   "cell_type": "markdown",
   "id": "42c9b79e",
   "metadata": {},
   "source": [
    "## Q3. np.arange(), np.reshape()를 이용하여 다음과 같은 넘파이 배열을 생성하여라\n",
    "```\n",
    "array([[51, 52, 53, 54, 55],\n",
    "       [56, 57, 58, 59, 60],\n",
    "       [61, 62, 63, 64, 65],\n",
    "       [66, 67, 68, 69, 70],\n",
    "       [71, 72, 73, 74, 75],\n",
    "       [76, 77, 78, 79, 80]])\n",
    "```"
   ]
  },
  {
   "cell_type": "code",
   "execution_count": 28,
   "id": "f36d1318-abab-4e6a-8ba3-87e71b36d100",
   "metadata": {},
   "outputs": [
    {
     "name": "stdout",
     "output_type": "stream",
     "text": [
      "[[51 52 53 54 55]\n",
      " [56 57 58 59 60]\n",
      " [61 62 63 64 65]\n",
      " [66 67 68 69 70]\n",
      " [71 72 73 74 75]\n",
      " [76 77 78 79 80]]\n"
     ]
    }
   ],
   "source": [
    "# 51부터 80까지의 연속된 정수를 생성하고 6x5 형태로 재구성\n",
    "array = np.arange(51, 81).reshape(6, 5)\n",
    "\n",
    "print(array)"
   ]
  },
  {
   "cell_type": "markdown",
   "id": "6b0dd4b5",
   "metadata": {},
   "source": [
    "## Q4. Q3의 넘파이 배열의 자료형을 float로 변경하고 데이터형을 출력하여라\n",
    "```\n",
    "array([[51., 52., 53., 54., 55.],\n",
    "       [56., 57., 58., 59., 60.],\n",
    "       [61., 62., 63., 64., 65.],\n",
    "       [66., 67., 68., 69., 70.],\n",
    "       [71., 72., 73., 74., 75.],\n",
    "       [76., 77., 78., 79., 80.]])\n",
    "```\n",
    "-------------------------------------  \n",
    "\n",
    "dtype('float64')"
   ]
  },
  {
   "cell_type": "code",
   "execution_count": 29,
   "id": "200dc541-ca25-4797-a0e8-cec3aae25b4c",
   "metadata": {},
   "outputs": [
    {
     "name": "stdout",
     "output_type": "stream",
     "text": [
      "[[51. 52. 53. 54. 55.]\n",
      " [56. 57. 58. 59. 60.]\n",
      " [61. 62. 63. 64. 65.]\n",
      " [66. 67. 68. 69. 70.]\n",
      " [71. 72. 73. 74. 75.]\n",
      " [76. 77. 78. 79. 80.]]\n",
      "float64\n"
     ]
    }
   ],
   "source": [
    "# Q3의 배열 생성\n",
    "array = np.arange(51, 81).reshape(6, 5)\n",
    "\n",
    "# 자료형을 float로 변경\n",
    "array_float = array.astype(float)\n",
    "# array_float = np.array(array, dtype=float)\n",
    "\n",
    "# 변경된 배열 출력\n",
    "print(array_float)\n",
    "\n",
    "# 데이터형 출력\n",
    "print(array_float.dtype)"
   ]
  },
  {
   "cell_type": "markdown",
   "id": "906cf1f4",
   "metadata": {},
   "source": [
    "## Q5. 다음과 같이 넘파이 배열을 생성한 후 1차원 배열로 변경하고 슬라이싱하여라 \n",
    "\n",
    "```\n",
    "array([[ 1,  4,  5,  6],\n",
    "       [56, 23, 45, 67],\n",
    "       [ 8,  4,  6, 10]])\n",
    "       \n",
    "array([ 1,  4,  5,  6, 56, 23, 45, 67,  8,  4,  6, 10])\n",
    "\n",
    "\n",
    "array([23, 45, 67,  8,  4,  6])\n",
    "```       "
   ]
  },
  {
   "cell_type": "code",
   "execution_count": 40,
   "id": "90724111-e79d-4da8-a30f-bfa15e788f7e",
   "metadata": {},
   "outputs": [
    {
     "name": "stdout",
     "output_type": "stream",
     "text": [
      "원본 배열:\n",
      "[[ 1  4  5  6]\n",
      " [56 23 45 67]\n",
      " [ 8  4  6 10]]\n",
      "\n",
      "1차원으로 변경된 배열:\n",
      "[ 1  4  5  6 56 23 45 67  8  4  6 10]\n",
      "\n",
      "슬라이싱된 배열:\n",
      "[23 45 67  8  4  6]\n"
     ]
    }
   ],
   "source": [
    "import numpy as np\n",
    "\n",
    "# 1. 원본 2차원 배열 생성\n",
    "original_array = np.array([[ 1,  4,  5,  6],\n",
    "                           [56, 23, 45, 67],\n",
    "                           [ 8,  4,  6, 10]])\n",
    "\n",
    "print(\"원본 배열:\")\n",
    "print(original_array)\n",
    "print()\n",
    "\n",
    "# 2. 1차원 배열로 변경\n",
    "flattened_array = original_array.flatten()\n",
    "\n",
    "print(\"1차원으로 변경된 배열:\")\n",
    "print(flattened_array)\n",
    "print()\n",
    "\n",
    "# 3. 슬라이싱\n",
    "sliced_array = flattened_array[5:11]\n",
    "\n",
    "print(\"슬라이싱된 배열:\")\n",
    "print(sliced_array)"
   ]
  },
  {
   "cell_type": "markdown",
   "id": "46e67feb",
   "metadata": {},
   "source": [
    "## Q6. 다음과 같은 넘파이 배열을 생성한 후 아이템을 교체하여라 \n",
    "\n",
    "```\n",
    "array([ 1,  2,  3,  4,  5,  6,  7,  8,  9, 10])\n",
    "\n",
    "array([10,  2,  3,  4,  5,  6,  7,  0,  0,  0])\n",
    "\n",
    "```"
   ]
  },
  {
   "cell_type": "code",
   "execution_count": 43,
   "id": "c7cd6fbe-380b-4e29-98f8-902b110a7207",
   "metadata": {},
   "outputs": [
    {
     "name": "stdout",
     "output_type": "stream",
     "text": [
      "[10  2  3  4  5  6  7  0  0  0]\n"
     ]
    }
   ],
   "source": [
    "arr = np.array([ 1,  2,  3,  4,  5,  6,  7,  8,  9, 10])\n",
    "arr[0] = 10\n",
    "arr[7] = 0\n",
    "arr[8] = 0\n",
    "arr[9] = 0\n",
    "print(arr)               "
   ]
  },
  {
   "cell_type": "markdown",
   "id": "cf265b90",
   "metadata": {},
   "source": [
    "## Q7. 2자리의 숫자로 구성된 넘파이 배열(5행5열)을 만들어라. 숫자는 난수를 이용한다. \n",
    "\n",
    "```\n",
    "[[63 85 71 67 15]\n",
    " [31 81 69 17 97]\n",
    " [25 41 33 23 39]\n",
    " [39 43 59 33 43]\n",
    " [23 51 65 91 23]]\n",
    "\n",
    "```"
   ]
  },
  {
   "cell_type": "code",
   "execution_count": 44,
   "id": "82b1ccb1",
   "metadata": {},
   "outputs": [
    {
     "name": "stdout",
     "output_type": "stream",
     "text": [
      "[[54 57 74 77 77]\n",
      " [19 93 31 46 97]\n",
      " [80 98 98 22 68]\n",
      " [75 49 97 56 98]\n",
      " [91 47 35 87 82]]\n"
     ]
    }
   ],
   "source": [
    "# 난수 시드 설정 (재현 가능성을 위해, 필수는 아님)\n",
    "np.random.seed(0)\n",
    "\n",
    "# 10부터 99까지의 난수로 이루어진 5x5 배열 생성\n",
    "array = np.random.randint(10, 100, size=(5, 5))\n",
    "\n",
    "print(array)"
   ]
  },
  {
   "cell_type": "markdown",
   "id": "5c5ccecf",
   "metadata": {},
   "source": [
    "## Q8. 1~100 사이의 정수중 7개의 숫자를 무작위로 추출한 후 가장 큰값과 가장 작은 값을 출력하여라.\n",
    "[91, 65, 14, 66, 65, 98, 34]\n",
    "\n",
    "max = 98\n",
    "min = 14"
   ]
  },
  {
   "cell_type": "code",
   "execution_count": 45,
   "id": "54209548-9daf-4b72-aec9-c6c8c60c7c13",
   "metadata": {},
   "outputs": [
    {
     "name": "stdout",
     "output_type": "stream",
     "text": [
      "[45 48 65 68 68 10 84]\n",
      "\n",
      "max = 84\n",
      "min = 10\n"
     ]
    }
   ],
   "source": [
    "import numpy as np\n",
    "\n",
    "# 난수 시드 설정 (재현 가능성을 위해, 필수는 아님)\n",
    "np.random.seed(0)\n",
    "\n",
    "# 1부터 100 사이의 정수 중 7개를 무작위로 추출\n",
    "numbers = np.random.randint(1, 101, size=7)\n",
    "\n",
    "# 추출된 숫자들 출력\n",
    "print(numbers)\n",
    "\n",
    "# 최대값과 최소값 계산\n",
    "max_value = np.max(numbers)\n",
    "min_value = np.min(numbers)\n",
    "\n",
    "# 결과 출력\n",
    "print(f\"\\nmax = {max_value}\")\n",
    "print(f\"min = {min_value}\")"
   ]
  },
  {
   "cell_type": "markdown",
   "id": "24dcaa28",
   "metadata": {},
   "source": [
    "## Q9. 다음과 같은 3개의 넘파이 배열을 생성한 후 다음과 같이 합쳐라\n",
    "```\n",
    "[[1, 2, 3],\n",
    " [4, 5, 6],\n",
    " [7, 8, 9]]\n",
    "\n",
    "\n",
    "[[11, 12, 13],\n",
    " [14, 15, 16],\n",
    " [17, 18, 19]]\n",
    "\n",
    "\n",
    "[[21, 22, 23],\n",
    " [24, 25, 26],\n",
    " [27, 28, 29]]\n",
    "```\n",
    " ----------\n",
    "  Result1 \n",
    "```\n",
    " [[ 1,  2,  3, 11, 12, 13, 21, 22, 23],\n",
    "  [ 4,  5,  6, 14, 15, 16, 24, 25, 26],\n",
    "  [ 7,  8,  9, 17, 18, 19, 27, 28, 29]] \n",
    "```\n",
    "\n",
    "  ----------\n",
    "  Result2\n",
    "```\n",
    " [[ 1,  2,  3],\n",
    "  [ 4,  5,  6],\n",
    "  [ 7,  8,  9],\n",
    "  [11, 12, 13],\n",
    "  [14, 15, 16],\n",
    "  [17, 18, 19],\n",
    "  [21, 22, 23],\n",
    "  [24, 25, 26],\n",
    "  [27, 28, 29]]\n",
    "```"
   ]
  },
  {
   "cell_type": "code",
   "execution_count": 53,
   "id": "a0442d46-bff4-4b28-b7ff-65ddffd05292",
   "metadata": {},
   "outputs": [
    {
     "name": "stdout",
     "output_type": "stream",
     "text": [
      "[[ 1  2  3 11 12 13 21 22 23]\n",
      " [ 4  5  6 14 15 16 24 25 26]\n",
      " [ 7  8  9 17 18 19 27 28 29]]\n",
      "[[ 1  2  3]\n",
      " [ 4  5  6]\n",
      " [ 7  8  9]\n",
      " [11 12 13]\n",
      " [14 15 16]\n",
      " [17 18 19]\n",
      " [21 22 23]\n",
      " [24 25 26]\n",
      " [27 28 29]]\n"
     ]
    }
   ],
   "source": [
    "a = np.arange(1,10).reshape(3,3)\n",
    "b = np.arange(11,20).reshape(3,3)\n",
    "c = np.arange(21,30).reshape(3,3)\n",
    "'''\n",
    "print(a)\n",
    "print(b)\n",
    "print(c)\n",
    "'''\n",
    "\n",
    "result1 = np.hstack((a,b,c))\n",
    "print(result1)\n",
    "\n",
    "result2 = np.vstack((a,b,c))\n",
    "print(result2)\n"
   ]
  },
  {
   "cell_type": "markdown",
   "id": "2d8638be",
   "metadata": {},
   "source": [
    "## Q10. 아래와 같이 넘파이 배열을 생성한 후 50보다 큰 숫자만 필터링하여라. \n",
    "\n",
    "```\n",
    "arr = np.random.choice(100, 40, replace=False)\n",
    "\n",
    "Before => \n",
    "\n",
    "[40, 63,  8,  2, 35, 84, 72, 48, 78, 86, 87, 58,  0, 49, 14, 55, 11,\n",
    "       73, 39, 26, 75, 27, 99, 46, 25, 22, 34, 83, 24, 47, 31, 57, 62, 19,\n",
    "       36, 15, 17, 10, 98, 90]\n",
    "\n",
    "After =>\n",
    "\n",
    "[63, 84, 72, 78, 86, 87, 58, 55, 73, 75, 99, 83, 57, 62, 98, 90]\n",
    "\n",
    "```"
   ]
  },
  {
   "cell_type": "code",
   "execution_count": 61,
   "id": "03c22039-7e21-48fd-9cba-bec220da6ee2",
   "metadata": {},
   "outputs": [
    {
     "name": "stdout",
     "output_type": "stream",
     "text": [
      "[93 49 68 23  9 67 72 82 92 85 74 76 58 39 89 77 21 69  3 54 34  5 64 65\n",
      " 25 24 71 40 63 42 19  8 80 16 94 12 33 52 29 31]\n",
      "[93 68 67 72 82 92 85 74 76 58 89 77 69 54 64 65 71 63 80 94 52]\n"
     ]
    }
   ],
   "source": [
    "arr = np.random.choice(100, 40, replace=False)\n",
    "print(arr)\n",
    "\n",
    "filtered_arr = arr[arr > 50]\n",
    "print(filtered_arr)\n"
   ]
  },
  {
   "cell_type": "markdown",
   "id": "249ef810",
   "metadata": {},
   "source": [
    "## Quiz11. 종합\n",
    "```\n",
    "kor = np.array( [60,55,70,30,20,90])\n",
    "1. 국어점수가 가장큰값을 구하여라\n",
    "2. 국어점수가 80점이상인 값을 구하여라\n",
    "3. 국어 점수가 50점이상 80점 이하인 값을 구하여라\n",
    "4. 국어점수의 평균을 구하여라\n",
    "5. 국어점수의 총합을 구하여라.\n",
    "6. 국어점수가 40점이하인 데이터를 삭제하여라\n",
    "7. 국어점수가 50점이상인 데이터에 가산점 10%를 부여하여라\n",
    "8. 국어점수 top 3를 구하여라\n",
    "9. 국어점수가 70점이상이면 '합격' , 아니면 '불합격'으로 출력하라\n",
    "```"
   ]
  },
  {
   "cell_type": "code",
   "execution_count": 65,
   "id": "1768aac7-8f49-4715-bab1-cd892b561ab2",
   "metadata": {},
   "outputs": [
    {
     "name": "stdout",
     "output_type": "stream",
     "text": [
      "1. 최고 점수: 90\n",
      "2. 80점 이상 점수: [90]\n",
      "3. 50-80점 사이 점수: [60 55 70]\n",
      "4. 평균 점수: 54.166666666666664\n",
      "5. 총점: 325\n",
      "6. 40점 초과 점수: [60 55 70 90]\n",
      "7. 가산점 부여 후 점수: [66.  60.5 77.  30.  20.  99. ]\n",
      "8. 상위 3개 점수: [90 70 60]\n",
      "9. 합격/불합격 결과: ['불합격' '불합격' '합격' '불합격' '불합격' '합격']\n"
     ]
    }
   ],
   "source": [
    "import numpy as np\n",
    "\n",
    "kor = np.array([60, 55, 70, 30, 20, 90])\n",
    "\n",
    "# 1. 국어점수가 가장 큰 값을 구하여라\n",
    "max_score = np.max(kor)\n",
    "print(\"1. 최고 점수:\", max_score)\n",
    "\n",
    "# 2. 국어점수가 80점 이상인 값을 구하여라\n",
    "scores_over_80 = kor[kor >= 80]\n",
    "print(\"2. 80점 이상 점수:\", scores_over_80)\n",
    "\n",
    "# 3. 국어 점수가 50점 이상 80점 이하인 값을 구하여라\n",
    "scores_50_to_80 = kor[(kor >= 50) & (kor <= 80)]\n",
    "print(\"3. 50-80점 사이 점수:\", scores_50_to_80)\n",
    "\n",
    "# 4. 국어점수의 평균을 구하여라\n",
    "average_score = np.mean(kor)\n",
    "print(\"4. 평균 점수:\", average_score)\n",
    "\n",
    "'''mean()과 average() 함수:\n",
    "NumPy에는 실제로 mean()과 average() 두 가지 함수가 있습니다.\n",
    "np.mean()은 단순 산술 평균을 계산합니다.\n",
    "np.average()는 가중 평균을 계산할 수 있습니다.\n",
    "\n",
    "\n",
    "mean()의 장점:\n",
    "더 간단하고 직관적입니다.\n",
    "계산 속도가 약간 더 빠릅니다.\n",
    "메모리 사용량이 더 적습니다.\n",
    "\n",
    "\n",
    "average()의 특징:\n",
    "가중치를 적용한 평균을 계산할 수 있습니다.\n",
    "가중치를 지정하지 않으면 mean()과 동일한 결과를 제공합니다.\n",
    "\n",
    "\n",
    "일반적인 사용:\n",
    "단순 평균을 계산할 때는 주로 mean()을 사용합니다.\n",
    "가중 평균이 필요한 특수한 경우에만 average()를 사용합니다.\n",
    "\n",
    "\n",
    "일관성:\n",
    "다른 통계 함수들(예: median(), std() 등)과 이름이 일관됩니다.'''\n",
    "\n",
    "# 5. 국어점수의 총합을 구하여라\n",
    "total_score = np.sum(kor)\n",
    "print(\"5. 총점:\", total_score)\n",
    "\n",
    "# 6. 국어점수가 40점 이하인 데이터를 삭제하여라\n",
    "kor_over_40 = kor[kor > 40]\n",
    "print(\"6. 40점 초과 점수:\", kor_over_40)\n",
    "\n",
    "'''# 국어점수가 40점이하인 데이터를 삭제하여라\n",
    "import copy\n",
    "kor1 = kor.copy()\n",
    "num = kor[kor<=40]\n",
    "kor1, num, np.delete(kor1, np.where(kor<=40))'''\n",
    "\n",
    "# 7. 국어점수가 50점 이상인 데이터에 가산점 10%를 부여하여라\n",
    "kor_with_bonus = np.where(kor >= 50, kor * 1.1, kor)\n",
    "print(\"7. 가산점 부여 후 점수:\", kor_with_bonus)\n",
    "\n",
    "# 8. 국어점수 top 3를 구하여라\n",
    "top_3 = np.sort(kor)[-3:][::-1]\n",
    "print(\"8. 상위 3개 점수:\", top_3)\n",
    "\n",
    "# 9. 국어점수가 70점 이상이면 '합격', 아니면 '불합격'으로 출력하라\n",
    "result = np.where(kor >= 70, '합격', '불합격')\n",
    "print(\"9. 합격/불합격 결과:\", result)"
   ]
  },
  {
   "cell_type": "code",
   "execution_count": null,
   "id": "306a7066-dc57-4935-bfcb-56c3c1bf3080",
   "metadata": {},
   "outputs": [],
   "source": []
  },
  {
   "cell_type": "code",
   "execution_count": null,
   "id": "3551683e-f1e8-4503-8764-fa516dcf7d46",
   "metadata": {},
   "outputs": [],
   "source": []
  },
  {
   "cell_type": "code",
   "execution_count": null,
   "id": "b1fc7c72-d571-4aae-9ffc-5a5daebdc33c",
   "metadata": {},
   "outputs": [],
   "source": []
  },
  {
   "cell_type": "markdown",
   "id": "715b435c-f689-48c0-a1ba-8ea2982fdd93",
   "metadata": {
    "tags": [],
    "toc-hr-collapsed": true
   },
   "source": [
    "# Numpy Quiz Answer"
   ]
  },
  {
   "cell_type": "code",
   "execution_count": null,
   "id": "ab1b9a53-31cc-4d76-abef-3cd61fc4cc4a",
   "metadata": {},
   "outputs": [],
   "source": []
  },
  {
   "cell_type": "markdown",
   "id": "d2bc320b-688e-4c2d-9aa4-d12e8e7329a7",
   "metadata": {},
   "source": [
    "## Q1. 다음과 같은 리스트를 이용하여 넘파이 배열을 만들고 전체 갯수, 차원, 데이터형, 구조를 출력하여라\n",
    "```\n",
    "['강아지', '원숭이', '꽃', '45', '100']\n",
    "array(['강아지', '원숭이', '꽃', '45', '100'], dtype='<U3')\n",
    "차원 ? 1\n",
    "전체 갯수 ? 5\n",
    "데이터형 ? <U3\n",
    "전체 구조  ? (5,)\n",
    "```"
   ]
  },
  {
   "cell_type": "code",
   "execution_count": null,
   "id": "b0e8a582-7507-4dcd-9ab2-4219929de1ee",
   "metadata": {},
   "outputs": [],
   "source": [
    "import numpy as np"
   ]
  },
  {
   "cell_type": "code",
   "execution_count": null,
   "id": "fdeb39c1-6a25-4ce4-82e2-37b7352d24da",
   "metadata": {
    "ExecuteTime": {
     "end_time": "2023-10-31T17:28:18.247075Z",
     "start_time": "2023-10-31T17:28:18.238754Z"
    }
   },
   "outputs": [
    {
     "data": {
      "text/plain": [
       "(array(['강아지', '원숭이', '꽃', '45', '100'], dtype='<U11'),\n",
       " 1,\n",
       " 5,\n",
       " numpy.ndarray,\n",
       " dtype('<U11'),\n",
       " (5,))"
      ]
     },
     "execution_count": 4,
     "metadata": {},
     "output_type": "execute_result"
    }
   ],
   "source": [
    "a = np.array(['강아지', '원숭이', '꽃', 45, 100])\n",
    "a, a.ndim, a.size, type(a), a.dtype, a.shape"
   ]
  },
  {
   "cell_type": "markdown",
   "id": "a7b83989-d07b-42fd-8714-3d6be548d962",
   "metadata": {},
   "source": [
    "## Q2. np.ones()를 이용하여 2행 3열의 넘파이 배열을 생성하여라\n",
    "```\n",
    "array([[1., 1., 1.],\n",
    "       [1., 1., 1.]])\n",
    "```"
   ]
  },
  {
   "cell_type": "code",
   "execution_count": null,
   "id": "d8fe8612-d656-478d-a46e-daca6ee64060",
   "metadata": {
    "ExecuteTime": {
     "end_time": "2021-11-23T08:50:18.403707Z",
     "start_time": "2021-11-23T08:50:18.398720Z"
    }
   },
   "outputs": [
    {
     "data": {
      "text/plain": [
       "array([[1., 1., 1.],\n",
       "       [1., 1., 1.]])"
      ]
     },
     "execution_count": 6,
     "metadata": {},
     "output_type": "execute_result"
    }
   ],
   "source": [
    "np.ones( (2, 3) )"
   ]
  },
  {
   "cell_type": "markdown",
   "id": "1444a3f4-b113-46f3-ad52-6d0331e2a808",
   "metadata": {},
   "source": [
    "## Q3. np.arange(), np.reshape()를 이용하여 다음과 같은 넘파이 배열을 생성하여라\n",
    "```\n",
    "array([[51, 52, 53, 54, 55],\n",
    "       [56, 57, 58, 59, 60],\n",
    "       [61, 62, 63, 64, 65],\n",
    "       [66, 67, 68, 69, 70],\n",
    "       [71, 72, 73, 74, 75],\n",
    "       [76, 77, 78, 79, 80]])\n",
    "```"
   ]
  },
  {
   "cell_type": "code",
   "execution_count": null,
   "id": "390648bc-f5d0-4dc2-8862-8f6b0d94bfdb",
   "metadata": {
    "ExecuteTime": {
     "end_time": "2021-11-24T00:25:00.549649Z",
     "start_time": "2021-11-24T00:25:00.543660Z"
    },
    "scrolled": true
   },
   "outputs": [
    {
     "data": {
      "text/plain": [
       "array([[51, 52, 53, 54, 55],\n",
       "       [56, 57, 58, 59, 60],\n",
       "       [61, 62, 63, 64, 65],\n",
       "       [66, 67, 68, 69, 70],\n",
       "       [71, 72, 73, 74, 75],\n",
       "       [76, 77, 78, 79, 80]])"
      ]
     },
     "execution_count": 8,
     "metadata": {},
     "output_type": "execute_result"
    }
   ],
   "source": [
    "arr = np.arange(51,81).reshape(6,5)\n",
    "# np.arange(51,81).reshape(-1,5)\n",
    "arr"
   ]
  },
  {
   "cell_type": "markdown",
   "id": "1353d2f5-73ff-4971-b227-c11571127ea4",
   "metadata": {},
   "source": [
    "## Q4. Q3의 넘파이 배열의 자료형을 float로 변경하고 데이터형을 출력하여라\n",
    "```\n",
    "array([[51., 52., 53., 54., 55.],\n",
    "       [56., 57., 58., 59., 60.],\n",
    "       [61., 62., 63., 64., 65.],\n",
    "       [66., 67., 68., 69., 70.],\n",
    "       [71., 72., 73., 74., 75.],\n",
    "       [76., 77., 78., 79., 80.]])\n",
    "```\n",
    "-------------------------------------  \n",
    "\n",
    "dtype('float64')"
   ]
  },
  {
   "cell_type": "code",
   "execution_count": null,
   "id": "961d0cb1-cca3-4076-94a8-a0226e0b01b4",
   "metadata": {
    "ExecuteTime": {
     "end_time": "2021-11-24T00:25:02.941446Z",
     "start_time": "2021-11-24T00:25:02.924526Z"
    }
   },
   "outputs": [
    {
     "data": {
      "text/plain": [
       "dtype('float64')"
      ]
     },
     "execution_count": 9,
     "metadata": {},
     "output_type": "execute_result"
    }
   ],
   "source": [
    "arr = arr.astype(float)\n",
    "arr.dtype"
   ]
  },
  {
   "cell_type": "markdown",
   "id": "ff278033-d6d3-4db1-86a2-00dbcdbd998f",
   "metadata": {},
   "source": [
    "## Q5. 다음과 같이 넘파이 배열을 생성한 후 1차원 배열로 변경하고 슬라이싱하여라 \n",
    "\n",
    "```\n",
    "array([[ 1,  4,  5,  6],\n",
    "       [56, 23, 45, 67],\n",
    "       [ 8,  4,  6, 10]])\n",
    "       \n",
    "array([ 1,  4,  5,  6, 56, 23, 45, 67,  8,  4,  6, 10])\n",
    "\n",
    "\n",
    "array([23, 45, 67,  8,  4,  6])\n",
    "```       "
   ]
  },
  {
   "cell_type": "code",
   "execution_count": null,
   "id": "3dd43fc3-c53c-4de2-a8a5-c5258f049846",
   "metadata": {
    "ExecuteTime": {
     "end_time": "2021-11-24T00:28:34.761603Z",
     "start_time": "2021-11-24T00:28:34.751630Z"
    }
   },
   "outputs": [
    {
     "name": "stdout",
     "output_type": "stream",
     "text": [
      "[23 45 67  8  4  6]\n",
      "[23 45 67  8  4  6]\n"
     ]
    }
   ],
   "source": [
    "arr2d = np.array([[ 1,  4,  5,  6], [56, 23, 45, 67], [ 8,  4,  6, 10]])\n",
    "print(arr2d.flatten()[5:11])\n",
    "print(arr2d.flatten()[5:-1])"
   ]
  },
  {
   "cell_type": "markdown",
   "id": "0e077dce-6656-4d7d-b13b-715fd49b841d",
   "metadata": {},
   "source": [
    "## Q6. 다음과 같은 넘파이 배열을 생성한 후 아이템을 교체하여라 \n",
    "\n",
    "```\n",
    "array([ 1,  2,  3,  4,  5,  6,  7,  8,  9, 10])\n",
    "\n",
    "array([10,  2,  3,  4,  5,  6,  7,  0,  0,  0])\n",
    "\n",
    "```"
   ]
  },
  {
   "cell_type": "code",
   "execution_count": null,
   "id": "ba727246-e266-47cd-afb1-21395f5a3d59",
   "metadata": {
    "ExecuteTime": {
     "end_time": "2021-11-24T00:31:24.685935Z",
     "start_time": "2021-11-24T00:31:24.665988Z"
    }
   },
   "outputs": [
    {
     "data": {
      "text/plain": [
       "array([10,  2,  3,  4,  5,  6,  7,  0,  0,  0])"
      ]
     },
     "execution_count": 11,
     "metadata": {},
     "output_type": "execute_result"
    }
   ],
   "source": [
    "arr = np.array([ 1,  2,  3,  4,  5,  6,  7,  8,  9, 10])\n",
    "arr[0] = 10\n",
    "arr[7:] = 0\n",
    "arr"
   ]
  },
  {
   "cell_type": "markdown",
   "id": "dd20781c-db26-40d7-b30c-8db9ad8b921a",
   "metadata": {},
   "source": [
    "## Q7. 2자리의 숫자로 구성된 넘파이 배열(5행5열)을 만들어라. 숫자는 난수를 이용한다. \n",
    "\n",
    "```\n",
    "[[63 85 71 67 15]\n",
    " [31 81 69 17 97]\n",
    " [25 41 33 23 39]\n",
    " [39 43 59 33 43]\n",
    " [23 51 65 91 23]]\n",
    "\n",
    "```"
   ]
  },
  {
   "cell_type": "code",
   "execution_count": null,
   "id": "68665198-af99-4d98-90a7-691f506d59f5",
   "metadata": {
    "ExecuteTime": {
     "end_time": "2021-11-24T00:33:15.839381Z",
     "start_time": "2021-11-24T00:33:15.825430Z"
    }
   },
   "outputs": [
    {
     "data": {
      "text/plain": [
       "array([[90, 30, 97, 56, 85],\n",
       "       [14, 50, 44, 80, 53],\n",
       "       [63, 61, 53, 76, 84],\n",
       "       [44, 90, 12, 20, 21],\n",
       "       [60, 58, 98, 57, 42]])"
      ]
     },
     "execution_count": 12,
     "metadata": {},
     "output_type": "execute_result"
    }
   ],
   "source": [
    "np.random.randint(10,99,25).reshape(5,5)\n",
    "np.random.randint(10,99,(5,5))"
   ]
  },
  {
   "cell_type": "markdown",
   "id": "2c116d89-fe20-467e-acc1-1941d68c386f",
   "metadata": {},
   "source": [
    "## Q8. 1~100 사이의 정수중 7개의 숫자를 무작위로 추출한 후 가장 큰값과 가장 작은 값을 출력하여라.\n",
    "[91, 65, 14, 66, 65, 98, 34]\n",
    "\n",
    "max = 98\n",
    "min = 14"
   ]
  },
  {
   "cell_type": "code",
   "execution_count": null,
   "id": "369422ff-44bd-4577-ba7d-a92a87a5cdcf",
   "metadata": {
    "ExecuteTime": {
     "end_time": "2021-11-24T00:34:35.620374Z",
     "start_time": "2021-11-24T00:34:35.607409Z"
    },
    "scrolled": true
   },
   "outputs": [
    {
     "data": {
      "text/plain": [
       "(array([71, 90,  9, 49, 55, 57, 34]), 90, 9)"
      ]
     },
     "execution_count": 11,
     "metadata": {},
     "output_type": "execute_result"
    }
   ],
   "source": [
    "num = np.random.randint(1,100,7)\n",
    "num, np.max(num), np.min(num)"
   ]
  },
  {
   "cell_type": "markdown",
   "id": "f5fa7cc6-8b9c-41fc-b630-f8e9c63df075",
   "metadata": {},
   "source": [
    "## Q9. 다음과 같은 3개의 넘파이 배열을 생성한 후 다음과 같이 합쳐라\n",
    "```\n",
    "[[1, 2, 3],\n",
    " [4, 5, 6],\n",
    " [7, 8, 9]]\n",
    "\n",
    "\n",
    "[[11, 12, 13],\n",
    " [14, 15, 16],\n",
    " [17, 18, 19]]\n",
    "\n",
    "\n",
    "[[21, 22, 23],\n",
    " [24, 25, 26],\n",
    " [27, 28, 29]]\n",
    "\n",
    " ----------\n",
    "  Result1 \n",
    "\n",
    " [[ 1,  2,  3, 11, 12, 13, 21, 22, 23],\n",
    "  [ 4,  5,  6, 14, 15, 16, 24, 25, 26],\n",
    "  [ 7,  8,  9, 17, 18, 19, 27, 28, 29]] \n",
    "\n",
    "\n",
    "  ----------\n",
    "  Result2\n",
    "\n",
    " [[ 1,  2,  3],\n",
    "  [ 4,  5,  6],\n",
    "  [ 7,  8,  9],\n",
    "  [11, 12, 13],\n",
    "  [14, 15, 16],\n",
    "  [17, 18, 19],\n",
    "  [21, 22, 23],\n",
    "  [24, 25, 26],\n",
    "  [27, 28, 29]]\n",
    "```"
   ]
  },
  {
   "cell_type": "code",
   "execution_count": null,
   "id": "0b2a547f-a26f-4be3-9a53-a2bf4559f44e",
   "metadata": {
    "ExecuteTime": {
     "end_time": "2021-11-24T00:40:26.980457Z",
     "start_time": "2021-11-24T00:40:26.958504Z"
    }
   },
   "outputs": [
    {
     "data": {
      "text/plain": [
       "(array([[ 1,  2,  3],\n",
       "        [ 4,  5,  6],\n",
       "        [ 7,  8,  9],\n",
       "        [11, 12, 13],\n",
       "        [14, 15, 16],\n",
       "        [17, 18, 19],\n",
       "        [21, 22, 23],\n",
       "        [24, 25, 26],\n",
       "        [27, 28, 29]]),\n",
       " array([[ 1,  2,  3, 11, 12, 13, 21, 22, 23],\n",
       "        [ 4,  5,  6, 14, 15, 16, 24, 25, 26],\n",
       "        [ 7,  8,  9, 17, 18, 19, 27, 28, 29]]))"
      ]
     },
     "execution_count": 13,
     "metadata": {},
     "output_type": "execute_result"
    }
   ],
   "source": [
    "a = np.array([[1, 2, 3], [4, 5, 6], [7, 8, 9]])\n",
    "b = np.array([[11, 12, 13], [14, 15, 16], [17, 18, 19]])\n",
    "c = np.array([[21, 22, 23], [24, 25, 26], [27, 28, 29]])\n",
    "\n",
    "# result1 \n",
    "result2 = np.hstack((a, b, c))\n",
    "\n",
    "# result2 \n",
    "result1 = np.vstack((a, b, c))\n",
    "\n",
    "result1, result2"
   ]
  },
  {
   "cell_type": "markdown",
   "id": "f984df69-8b67-422b-9cc9-e41373da19ca",
   "metadata": {},
   "source": [
    "## Q10. 아래와 같이 넘파이 배열을 생성한 후 50보다 큰 숫자만 필터링하여라. \n",
    "\n",
    "```\n",
    "arr = np.random.choice(100, 40, replace=False)\n",
    "\n",
    "Before => \n",
    "\n",
    "[40, 63,  8,  2, 35, 84, 72, 48, 78, 86, 87, 58,  0, 49, 14, 55, 11,\n",
    "       73, 39, 26, 75, 27, 99, 46, 25, 22, 34, 83, 24, 47, 31, 57, 62, 19,\n",
    "       36, 15, 17, 10, 98, 90]\n",
    "\n",
    "\n",
    "After =>\n",
    "\n",
    "[63, 84, 72, 78, 86, 87, 58, 55, 73, 75, 99, 83, 57, 62, 98, 90]\n",
    "\n",
    "\n",
    "```"
   ]
  },
  {
   "cell_type": "code",
   "execution_count": null,
   "id": "27bae697-c248-4c7f-be99-abce0447a3e1",
   "metadata": {
    "ExecuteTime": {
     "end_time": "2021-11-24T04:12:29.152196Z",
     "start_time": "2021-11-24T04:12:29.147229Z"
    }
   },
   "outputs": [
    {
     "data": {
      "text/plain": [
       "(array([51,  4, 39, 64, 16, 85, 86, 88, 56, 76, 70, 15, 18,  5, 40, 25, 23,\n",
       "        62, 57, 11, 28, 47, 52, 49, 54, 83, 35, 96, 46, 53, 81, 82, 34, 97,\n",
       "        59, 84, 67, 27,  6, 42]),\n",
       " array([51, 64, 85, 86, 88, 56, 76, 70, 62, 57, 52, 54, 83, 96, 53, 81, 82,\n",
       "        97, 59, 84, 67]),\n",
       " array([51, 64, 85, 86, 88, 56, 76, 70, 62, 57, 52, 54, 83, 96, 53, 81, 82,\n",
       "        97, 59, 84, 67]))"
      ]
     },
     "execution_count": 14,
     "metadata": {},
     "output_type": "execute_result"
    }
   ],
   "source": [
    "# 중복없이, 100까지 숫자중 40개를 추출가능, randint는 중복생김\n",
    "n = np.random.choice(100, 40, replace=False)\n",
    "# 50보다 큰 숫자만 필터링\n",
    "n, n[np.where(n>50)] , n[n>50]"
   ]
  },
  {
   "cell_type": "markdown",
   "id": "e718cf37-5e18-4c0f-ac11-76f8cd510f1c",
   "metadata": {},
   "source": [
    "## Quiz11. 종합\n",
    "```\n",
    "kor = np.array( [60,55,70,30,20,90])\n",
    "1. 국어점수가 가장큰값을 구하여라\n",
    "2. 국어점수가 80점이상인 값을 구하여라\n",
    "3. 국어 점수가 50점이상 80점 이하인 값을 구하여라\n",
    "4. 국어점수의 평균을 구하여라\n",
    "5. 국어점수의 총합을 구하여라.\n",
    "6. 국어점수가 40점이하인 데이터를 삭제하여라\n",
    "7. 국어점수가 50점이상인 데이터에 가산점 10%를 부여하여라\n",
    "8. 국어점수 top 3를 구하여라\n",
    "9. 국어점수가 70점이상이면 '합격' , 아니면 '불합격'으로 출력하라\n",
    "```"
   ]
  },
  {
   "cell_type": "code",
   "execution_count": null,
   "id": "f687ef7c-4da0-4839-bfff-f2baf4879093",
   "metadata": {
    "ExecuteTime": {
     "end_time": "2021-11-24T02:33:52.238430Z",
     "start_time": "2021-11-24T02:33:52.227460Z"
    }
   },
   "outputs": [],
   "source": [
    "kor = np.array( [60,55,70,30,20,90])"
   ]
  },
  {
   "cell_type": "code",
   "execution_count": null,
   "id": "9dc86b8d-6bae-45e1-b4ea-0861802b8537",
   "metadata": {
    "ExecuteTime": {
     "end_time": "2021-11-24T02:34:53.359039Z",
     "start_time": "2021-11-24T02:34:53.339106Z"
    }
   },
   "outputs": [
    {
     "data": {
      "text/plain": [
       "90"
      ]
     },
     "execution_count": 16,
     "metadata": {},
     "output_type": "execute_result"
    }
   ],
   "source": [
    "# 국어 점수가 가장 큰값\n",
    "max(kor)"
   ]
  },
  {
   "cell_type": "code",
   "execution_count": null,
   "id": "c592a269-4fa5-4b02-b83e-2da40fe23907",
   "metadata": {
    "ExecuteTime": {
     "end_time": "2021-11-24T02:37:02.636995Z",
     "start_time": "2021-11-24T02:37:02.618045Z"
    }
   },
   "outputs": [
    {
     "data": {
      "text/plain": [
       "array([90])"
      ]
     },
     "execution_count": 17,
     "metadata": {},
     "output_type": "execute_result"
    }
   ],
   "source": [
    "# 국어점수가 80점이상인 값을 구하여라\n",
    "kor[(kor>=80)]"
   ]
  },
  {
   "cell_type": "code",
   "execution_count": null,
   "id": "74053d31-5ee6-4769-90c0-f5a312817c1f",
   "metadata": {
    "ExecuteTime": {
     "end_time": "2021-11-24T02:37:21.108369Z",
     "start_time": "2021-11-24T02:37:21.098396Z"
    }
   },
   "outputs": [
    {
     "data": {
      "text/plain": [
       "array([60, 55, 70])"
      ]
     },
     "execution_count": 18,
     "metadata": {},
     "output_type": "execute_result"
    }
   ],
   "source": [
    "#  국어 점수가 50점이상 80점 이하인 값을 구하여라\n",
    "kor[(kor>= 50) & (kor <=80)]"
   ]
  },
  {
   "cell_type": "code",
   "execution_count": null,
   "id": "6ff5d373-eaf9-49de-9601-6164c57430e8",
   "metadata": {
    "ExecuteTime": {
     "end_time": "2021-11-24T04:18:29.200637Z",
     "start_time": "2021-11-24T04:18:29.187672Z"
    }
   },
   "outputs": [
    {
     "data": {
      "text/plain": [
       "(54.166666666666664, 54.167)"
      ]
     },
     "execution_count": 19,
     "metadata": {},
     "output_type": "execute_result"
    }
   ],
   "source": [
    "# 국어점수의 평균을 구하여라\n",
    "np.average(kor), round(kor.mean(),3)"
   ]
  },
  {
   "cell_type": "code",
   "execution_count": null,
   "id": "d315d1ca-4ae4-404e-afd9-836d86154d11",
   "metadata": {
    "ExecuteTime": {
     "end_time": "2021-11-24T02:38:01.791001Z",
     "start_time": "2021-11-24T02:38:01.783024Z"
    },
    "scrolled": true
   },
   "outputs": [
    {
     "data": {
      "text/plain": [
       "325"
      ]
     },
     "execution_count": 20,
     "metadata": {},
     "output_type": "execute_result"
    }
   ],
   "source": [
    "# 국어점수의 총합을 구하여라.\n",
    "np.sum(kor)"
   ]
  },
  {
   "cell_type": "code",
   "execution_count": null,
   "id": "13650b0b-007b-4029-ae7f-cb466a30ccaf",
   "metadata": {
    "ExecuteTime": {
     "end_time": "2021-11-24T04:19:34.284000Z",
     "start_time": "2021-11-24T04:19:34.270051Z"
    }
   },
   "outputs": [
    {
     "data": {
      "text/plain": [
       "(array([60, 55, 70, 30, 20, 90]), array([30, 20]), array([60, 55, 70, 90]))"
      ]
     },
     "execution_count": 22,
     "metadata": {},
     "output_type": "execute_result"
    }
   ],
   "source": [
    "# 국어점수가 40점이하인 데이터를 삭제하여라\n",
    "import copy\n",
    "kor1 = kor.copy()\n",
    "num = kor[kor<=40]\n",
    "kor1, num, np.delete(kor1, np.where(kor<=40))"
   ]
  },
  {
   "cell_type": "code",
   "execution_count": null,
   "id": "55f33212-3a16-4bdf-b75a-c4027f35b1c7",
   "metadata": {
    "ExecuteTime": {
     "end_time": "2021-11-24T04:20:29.720042Z",
     "start_time": "2021-11-24T04:20:29.705082Z"
    }
   },
   "outputs": [
    {
     "data": {
      "text/plain": [
       "array([66. , 60.5, 77. , 30. , 20. , 99. ])"
      ]
     },
     "execution_count": 23,
     "metadata": {},
     "output_type": "execute_result"
    }
   ],
   "source": [
    "# 국어점수가 50점이상인 데이터에 가산점 10%를 부여하여라\n",
    "np.where(kor>=50, kor*1.1, kor )"
   ]
  },
  {
   "cell_type": "code",
   "execution_count": null,
   "id": "5c2169fb-39da-450a-884d-51bc50428a39",
   "metadata": {},
   "outputs": [
    {
     "data": {
      "text/plain": [
       "array([20, 30, 55, 60, 70, 90])"
      ]
     },
     "execution_count": 24,
     "metadata": {},
     "output_type": "execute_result"
    }
   ],
   "source": [
    "# 국어점수 top 3를 구하여라\n",
    "np.sort(kor)"
   ]
  },
  {
   "cell_type": "code",
   "execution_count": null,
   "id": "947a4647-1b8f-46d8-8547-32e51b478a05",
   "metadata": {},
   "outputs": [
    {
     "data": {
      "text/plain": [
       "array([90, 70, 60, 55, 30, 20])"
      ]
     },
     "execution_count": 26,
     "metadata": {},
     "output_type": "execute_result"
    }
   ],
   "source": [
    "np.sort(kor)[::-1]"
   ]
  },
  {
   "cell_type": "code",
   "execution_count": null,
   "id": "2aeb822b-7f6c-498e-b0f6-ec9cb279d3ba",
   "metadata": {},
   "outputs": [
    {
     "data": {
      "text/plain": [
       "array([5, 2, 0], dtype=int64)"
      ]
     },
     "execution_count": 27,
     "metadata": {},
     "output_type": "execute_result"
    }
   ],
   "source": [
    "np.argsort(kor)[::-1][:3]"
   ]
  },
  {
   "cell_type": "code",
   "execution_count": null,
   "id": "53bea385-daca-404a-b49d-83aaec5e7265",
   "metadata": {
    "ExecuteTime": {
     "end_time": "2021-11-24T04:27:03.562255Z",
     "start_time": "2021-11-24T04:27:03.553279Z"
    }
   },
   "outputs": [
    {
     "data": {
      "text/plain": [
       "(array([90, 70, 60]), array([90, 70, 60]))"
      ]
     },
     "execution_count": 22,
     "metadata": {},
     "output_type": "execute_result"
    }
   ],
   "source": [
    "# 국어점수 top 3를 구하여라\n",
    "np.sort(kor)[::-1][:3], kor[np.argsort(kor)[::-1][:3]] # 인덱스값으로 실제 값 출력"
   ]
  },
  {
   "cell_type": "code",
   "execution_count": null,
   "id": "00b94db0-f268-436a-a523-d1284a8b1b20",
   "metadata": {
    "ExecuteTime": {
     "end_time": "2021-11-24T04:29:56.679622Z",
     "start_time": "2021-11-24T04:29:56.669649Z"
    }
   },
   "outputs": [
    {
     "data": {
      "text/plain": [
       "(array([60, 55, 70, 30, 20, 90]),\n",
       " array(['불합격', '불합격', '합격', '불합격', '불합격', '합격'], dtype='<U3'))"
      ]
     },
     "execution_count": 28,
     "metadata": {},
     "output_type": "execute_result"
    }
   ],
   "source": [
    "# 국어점수가 70점이상이면 '합격' , 아니면 '불합격으로' 아래와 같이 출력하시요\n",
    "kor, np.where(kor>=70, \"합격\", \"불합격\")"
   ]
  }
 ],
 "metadata": {
  "kernelspec": {
   "display_name": "Python 3 (ipykernel)",
   "language": "python",
   "name": "python3"
  },
  "language_info": {
   "codemirror_mode": {
    "name": "ipython",
    "version": 3
   },
   "file_extension": ".py",
   "mimetype": "text/x-python",
   "name": "python",
   "nbconvert_exporter": "python",
   "pygments_lexer": "ipython3",
   "version": "3.12.4"
  },
  "toc": {
   "base_numbering": 1,
   "nav_menu": {},
   "number_sections": true,
   "sideBar": true,
   "skip_h1_title": false,
   "title_cell": "Table of Contents",
   "title_sidebar": "Contents",
   "toc_cell": false,
   "toc_position": {
    "height": "calc(100% - 180px)",
    "left": "10px",
    "top": "150px",
    "width": "232px"
   },
   "toc_section_display": true,
   "toc_window_display": true
  },
  "varInspector": {
   "cols": {
    "lenName": 16,
    "lenType": 16,
    "lenVar": 40
   },
   "kernels_config": {
    "python": {
     "delete_cmd_postfix": "",
     "delete_cmd_prefix": "del ",
     "library": "var_list.py",
     "varRefreshCmd": "print(var_dic_list())"
    },
    "r": {
     "delete_cmd_postfix": ") ",
     "delete_cmd_prefix": "rm(",
     "library": "var_list.r",
     "varRefreshCmd": "cat(var_dic_list()) "
    }
   },
   "types_to_exclude": [
    "module",
    "function",
    "builtin_function_or_method",
    "instance",
    "_Feature"
   ],
   "window_display": false
  }
 },
 "nbformat": 4,
 "nbformat_minor": 5
}
