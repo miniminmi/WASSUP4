{
 "cells": [
  {
   "cell_type": "code",
   "execution_count": 1,
   "id": "2e0cbe63-74aa-4a5e-bc60-f74e3112f5ea",
   "metadata": {},
   "outputs": [
    {
     "data": {
      "text/plain": [
       "bool"
      ]
     },
     "execution_count": 1,
     "metadata": {},
     "output_type": "execute_result"
    }
   ],
   "source": [
    "# 101\n",
    "bool"
   ]
  },
  {
   "cell_type": "code",
   "execution_count": 2,
   "id": "b302cecb-c37b-46a0-bbfe-a75763f490c0",
   "metadata": {},
   "outputs": [
    {
     "data": {
      "text/plain": [
       "False"
      ]
     },
     "execution_count": 2,
     "metadata": {},
     "output_type": "execute_result"
    }
   ],
   "source": [
    "# 102\n",
    "False"
   ]
  },
  {
   "cell_type": "code",
   "execution_count": 3,
   "id": "7c154273-f1b1-4420-bfd8-4973dccdedc4",
   "metadata": {},
   "outputs": [
    {
     "data": {
      "text/plain": [
       "True"
      ]
     },
     "execution_count": 3,
     "metadata": {},
     "output_type": "execute_result"
    }
   ],
   "source": [
    "#103\n",
    "True"
   ]
  },
  {
   "cell_type": "code",
   "execution_count": 4,
   "id": "8498f1d2-2f27-4286-9550-7b56653ad401",
   "metadata": {},
   "outputs": [
    {
     "data": {
      "text/plain": [
       "True"
      ]
     },
     "execution_count": 4,
     "metadata": {},
     "output_type": "execute_result"
    }
   ],
   "source": [
    "#104\n",
    "True"
   ]
  },
  {
   "cell_type": "code",
   "execution_count": 5,
   "id": "5dadefee-9be0-4fd5-b1b2-9d1832b136dd",
   "metadata": {},
   "outputs": [
    {
     "data": {
      "text/plain": [
       "True"
      ]
     },
     "execution_count": 5,
     "metadata": {},
     "output_type": "execute_result"
    }
   ],
   "source": [
    "#105\n",
    "True"
   ]
  },
  {
   "cell_type": "code",
   "execution_count": 6,
   "id": "4fb1a20f-ee24-4abf-a136-2923ad32b088",
   "metadata": {},
   "outputs": [
    {
     "ename": "SyntaxError",
     "evalue": "invalid syntax (1921080765.py, line 2)",
     "output_type": "error",
     "traceback": [
      "\u001b[0;36m  Cell \u001b[0;32mIn[6], line 2\u001b[0;36m\u001b[0m\n\u001b[0;31m    => 순서가 >=여야한다\u001b[0m\n\u001b[0m    ^\u001b[0m\n\u001b[0;31mSyntaxError\u001b[0m\u001b[0;31m:\u001b[0m invalid syntax\n"
     ]
    }
   ],
   "source": [
    "#106\n",
    "=> 순서가 >=여야한다"
   ]
  },
  {
   "cell_type": "code",
   "execution_count": null,
   "id": "0996326e-6a7b-4159-a03d-e81343817c8c",
   "metadata": {},
   "outputs": [],
   "source": [
    "#107\n",
    "아무 일도 일어나지 않음"
   ]
  },
  {
   "cell_type": "code",
   "execution_count": null,
   "id": "a4554904-3a71-4356-979b-0c64cfa5dc6a",
   "metadata": {},
   "outputs": [],
   "source": [
    "#108\n",
    "Hi, there."
   ]
  },
  {
   "cell_type": "code",
   "execution_count": null,
   "id": "31e78a62-7e16-4461-81f3-661bfeed9bce",
   "metadata": {},
   "outputs": [
    {
     "data": {
      "text/plain": [
       "4"
      ]
     },
     "execution_count": 5,
     "metadata": {},
     "output_type": "execute_result"
    }
   ],
   "source": [
    "#109\n",
    "1\n",
    "2\n",
    "4"
   ]
  },
  {
   "cell_type": "code",
   "execution_count": null,
   "id": "3576e8d4-a622-4714-b691-53b87149274e",
   "metadata": {},
   "outputs": [
    {
     "data": {
      "text/plain": [
       "5"
      ]
     },
     "execution_count": 1,
     "metadata": {},
     "output_type": "execute_result"
    }
   ],
   "source": [
    "#110\n",
    "3\n",
    "5"
   ]
  },
  {
   "cell_type": "code",
   "execution_count": null,
   "id": "c24ccbb2-7e74-4a89-a507-388078c73c0d",
   "metadata": {},
   "outputs": [
    {
     "name": "stdout",
     "output_type": "stream",
     "text": [
      " 안녕하세요\n"
     ]
    },
    {
     "name": "stdout",
     "output_type": "stream",
     "text": [
      "안녕하세요안녕하세요\n"
     ]
    }
   ],
   "source": [
    "#111\n",
    "a = input()\n",
    "print(a * 2)"
   ]
  },
  {
   "cell_type": "code",
   "execution_count": null,
   "id": "ce22350f-b519-447d-b51e-dab7e9312eb2",
   "metadata": {},
   "outputs": [
    {
     "name": "stdout",
     "output_type": "stream",
     "text": [
      " 5\n"
     ]
    },
    {
     "data": {
      "text/plain": [
       "15"
      ]
     },
     "execution_count": 21,
     "metadata": {},
     "output_type": "execute_result"
    }
   ],
   "source": [
    "#112\n",
    "b = input()\n",
    "c = int(b)\n",
    "c + 10"
   ]
  },
  {
   "cell_type": "code",
   "execution_count": null,
   "id": "01e17511-9f23-490b-a373-a98d1e676be4",
   "metadata": {},
   "outputs": [
    {
     "name": "stdout",
     "output_type": "stream",
     "text": [
      "숫자를 입력하세요 55\n"
     ]
    },
    {
     "name": "stdout",
     "output_type": "stream",
     "text": [
      "홀수\n"
     ]
    }
   ],
   "source": [
    "#113\n",
    "user = input('숫자를 입력하세요')\n",
    "number = int(user)\n",
    "if number % 2 == 0:\n",
    "    print('짝수')\n",
    "else:\n",
    "    print('홀수')"
   ]
  },
  {
   "cell_type": "code",
   "execution_count": null,
   "id": "94b0199b-37d4-4e48-b828-7743eec03b58",
   "metadata": {},
   "outputs": [
    {
     "name": "stdout",
     "output_type": "stream",
     "text": [
      "숫자를 입력하세요 20\n"
     ]
    },
    {
     "name": "stdout",
     "output_type": "stream",
     "text": [
      "입력값: 20\n",
      "40\n"
     ]
    }
   ],
   "source": [
    "#114\n",
    "user = input('숫자를 입력하세요')\n",
    "number = int(user)\n",
    "result = number + 20\n",
    "print('입력값:', number)\n",
    "if result > 255:\n",
    "    print(255)\n",
    "else:\n",
    "    print(result)"
   ]
  },
  {
   "cell_type": "code",
   "execution_count": null,
   "id": "92b0cec4-ea90-4140-8c51-596f1e6e40c1",
   "metadata": {},
   "outputs": [
    {
     "name": "stdout",
     "output_type": "stream",
     "text": [
      "숫자를 입력하세요 100\n"
     ]
    },
    {
     "name": "stdout",
     "output_type": "stream",
     "text": [
      "입력값: 100\n",
      "80\n"
     ]
    }
   ],
   "source": [
    "#115\n",
    "user = input('숫자를 입력하세요')\n",
    "number = int(user)\n",
    "result = int(number - 20)\n",
    "print('입력값:', number)\n",
    "if result < 0:\n",
    "    print(0)\n",
    "elif result > 255:\n",
    "    print(255)\n",
    "else: \n",
    "    print(result)"
   ]
  },
  {
   "cell_type": "code",
   "execution_count": null,
   "id": "4ac56209-9959-4ada-b01d-63986c98ee97",
   "metadata": {},
   "outputs": [
    {
     "name": "stdout",
     "output_type": "stream",
     "text": [
      "현재시간:  55:55\n"
     ]
    },
    {
     "name": "stdout",
     "output_type": "stream",
     "text": [
      "정각이 아닙니다.\n"
     ]
    }
   ],
   "source": [
    "#116\n",
    "time = input(\"현재시간: \")\n",
    "if time[-2:] == \"00\":\n",
    "    print(\"정각 입니다.\")\n",
    "else:\n",
    "    print(\"정각이 아닙니다.\")"
   ]
  },
  {
   "cell_type": "code",
   "execution_count": null,
   "id": "7d826723-fbb8-43f4-b7ef-2b27531c939b",
   "metadata": {},
   "outputs": [
    {
     "name": "stdout",
     "output_type": "stream",
     "text": [
      "과일을 입력해 주세요 두리안\n"
     ]
    },
    {
     "name": "stdout",
     "output_type": "stream",
     "text": [
      "오답입니다\n"
     ]
    }
   ],
   "source": [
    "#117\n",
    "fruit = [\"사과\", \"포도\", \"홍시\"]\n",
    "user = input(\"과일을 입력해 주세요\")\n",
    "if user in fruit:\n",
    "    print('정답입니다')\n",
    "else:\n",
    "    print('오답입니다')   "
   ]
  },
  {
   "cell_type": "code",
   "execution_count": null,
   "id": "df07d0e7-8444-4607-af3c-5e7f317a9e41",
   "metadata": {},
   "outputs": [
    {
     "name": "stdout",
     "output_type": "stream",
     "text": [
      "종목을 영어로 입력해주세요 google\n"
     ]
    },
    {
     "name": "stdout",
     "output_type": "stream",
     "text": [
      "투자 경고 종목입니다\n"
     ]
    }
   ],
   "source": [
    "#118\n",
    "warn_investment_list = [\"Microsoft\", \"Google\", \"Naver\", \"Kakao\", \"SAMSUNG\", \"LG\"]\n",
    "user = input(\"종목을 영어로 입력해주세요\")\n",
    "a = user.capitalize()\n",
    "if a in warn_investment_list:\n",
    "    print('투자 경고 종목입니다')\n",
    "else:\n",
    "    print('투자 경고 종목이 아닙니다.')  "
   ]
  },
  {
   "cell_type": "code",
   "execution_count": null,
   "id": "b199d08e-3191-456e-8f99-82aee3444be9",
   "metadata": {},
   "outputs": [
    {
     "name": "stdout",
     "output_type": "stream",
     "text": [
      "제가 좋아하는 계절은:  봄\n"
     ]
    },
    {
     "name": "stdout",
     "output_type": "stream",
     "text": [
      "정답입니다\n"
     ]
    }
   ],
   "source": [
    "#119\n",
    "fruit = {\"봄\" : \"딸기\", \"여름\" : \"토마토\", \"가을\" : \"사과\"}\n",
    "user = input('제가 좋아하는 계절은: ')\n",
    "if user in fruit:\n",
    "    print('정답입니다')\n",
    "else:\n",
    "    print('오답입니다')   "
   ]
  },
  {
   "cell_type": "code",
   "execution_count": null,
   "id": "e228ffcc-af51-4230-a134-0289afbe9db6",
   "metadata": {},
   "outputs": [
    {
     "name": "stdout",
     "output_type": "stream",
     "text": [
      "제가 좋아하는 과일은:  한라봉\n"
     ]
    },
    {
     "name": "stdout",
     "output_type": "stream",
     "text": [
      "오답입니다\n"
     ]
    }
   ],
   "source": [
    "#120\n",
    "fruit = {\"봄\" : \"딸기\", \"여름\" : \"토마토\", \"가을\" : \"사과\"}\n",
    "user = input('제가 좋아하는 과일은: ')\n",
    "if user in fruit.values():\n",
    "    print('정답입니다')\n",
    "else:\n",
    "    print('오답입니다')   "
   ]
  },
  {
   "cell_type": "code",
   "execution_count": null,
   "id": "868fd564-fb7f-4d7f-b89a-039c07cd0867",
   "metadata": {},
   "outputs": [
    {
     "name": "stdout",
     "output_type": "stream",
     "text": [
      " s\n"
     ]
    },
    {
     "name": "stdout",
     "output_type": "stream",
     "text": [
      "S\n"
     ]
    }
   ],
   "source": [
    "#121\n",
    "user = input(\"\")\n",
    "if user.islower():\n",
    "    print(user.upper())\n",
    "else:\n",
    "    print(user.lower())"
   ]
  },
  {
   "cell_type": "code",
   "execution_count": null,
   "id": "e4dbc06c-e65a-48d9-94f2-78195360595f",
   "metadata": {},
   "outputs": [
    {
     "name": "stdout",
     "output_type": "stream",
     "text": [
      " 4\n"
     ]
    },
    {
     "name": "stdout",
     "output_type": "stream",
     "text": [
      "grade is E\n"
     ]
    }
   ],
   "source": [
    "#122\n",
    "score = input()\n",
    "result = int(score)\n",
    "if 81 <= result <= 100:\n",
    "    print('grade is A')\n",
    "elif 61 <= result <= 80:\n",
    "    print('grade is B')\n",
    "elif 41 <= result <= 60:\n",
    "    print('grade is C')\n",
    "elif 21 <= result <= 40:\n",
    "    print('grade is D')\n",
    "else:\n",
    "    print('grade is E')"
   ]
  },
  {
   "cell_type": "code",
   "execution_count": null,
   "id": "78932508-6ad3-4d6b-8e17-db5320b03d24",
   "metadata": {},
   "outputs": [
    {
     "name": "stdout",
     "output_type": "stream",
     "text": [
      "입력:  30 달러\n"
     ]
    },
    {
     "name": "stdout",
     "output_type": "stream",
     "text": [
      "35010.0 원\n"
     ]
    }
   ],
   "source": [
    "#123\n",
    "환율 = {\"달러\": 1167, \n",
    "        \"엔\": 1.096, \n",
    "        \"유로\": 1268, \n",
    "        \"위안\": 171}\n",
    "user = input(\"입력: \")\n",
    "num, currency = user.split()\n",
    "print(float(num) * 환율[currency], \"원\")"
   ]
  },
  {
   "cell_type": "code",
   "execution_count": 8,
   "id": "a13ef8dc",
   "metadata": {},
   "outputs": [
    {
     "name": "stdout",
     "output_type": "stream",
     "text": [
      "가장 큰 수: 4\n"
     ]
    }
   ],
   "source": [
    "#124\n",
    "num1 = input(\"input number1: \")\n",
    "num2 = input(\"input number2: \")\n",
    "num3 = input(\"input number3: \")\n",
    "num1 = int(num1)\n",
    "num2 = int(num2)\n",
    "num3 = int(num3)\n",
    "\n",
    "if num1 > num2 and num1 > num3:\n",
    "    print('가장 큰 수:', num1)\n",
    "elif num2 > num1 and num2 > num2:\n",
    "    print('가장 큰 수:', num2)\n",
    "else:\n",
    "    print('가장 큰 수:', num3)"
   ]
  },
  {
   "cell_type": "code",
   "execution_count": 19,
   "id": "654724ec",
   "metadata": {},
   "outputs": [
    {
     "name": "stdout",
     "output_type": "stream",
     "text": [
      "00099999999\n",
      "<class 'str'>\n",
      "조회할 수 없는 번호입니다\n"
     ]
    }
   ],
   "source": [
    "#125-1\n",
    "num = input('휴대폰번호를 입력해 주세요')\n",
    "print(num)\n",
    "first = num[0:3]\n",
    "print(type(first))\n",
    "if first == '011':\n",
    "    print('통신사 : SKT')\n",
    "elif first == '016':\n",
    "    print('통신사 : KT')\n",
    "elif first == '019':\n",
    "    print('통신사 : LGU')\n",
    "elif first == '010':\n",
    "    print('통신사 : 알수없음')\n",
    "else:\n",
    "    print('조회할 수 없는 번호입니다')"
   ]
  },
  {
   "cell_type": "code",
   "execution_count": 20,
   "id": "bbe0bcee",
   "metadata": {},
   "outputs": [
    {
     "name": "stdout",
     "output_type": "stream",
     "text": [
      "당신은 알수없음 사용자입니다.\n"
     ]
    }
   ],
   "source": [
    "#125-2\n",
    "number = input(\"휴대전화 번호 입력: \")\n",
    "num = number.split(\"-\")[0]\n",
    "if num == \"011\":\n",
    "    com = \"SKT\"\n",
    "elif num == \"016\":\n",
    "    com = \"KT\"\n",
    "elif num == \"019\":\n",
    "    com = \"LGU\"\n",
    "else:\n",
    "    com = \"알수없음\"\n",
    "print(f\"당신은 {com} 사용자입니다.\")\n"
   ]
  },
  {
   "cell_type": "code",
   "execution_count": 26,
   "id": "37338af9",
   "metadata": {},
   "outputs": [
    {
     "name": "stdout",
     "output_type": "stream",
     "text": [
      "입력하신 우편번호는 01999입니다. 우편번호 앞 3자리 019를 확인한 결과 당신은 노원구에 거주중입니다\n"
     ]
    }
   ],
   "source": [
    "#126\n",
    "post = input('우편번호 5자리를 입력해 주세요')\n",
    "num = post[:3]\n",
    "강북구 = ['010', '011', '012']\n",
    "도봉구 = ['013', '014', '015']\n",
    "노원구 = ['016', '017', '018', '019']\n",
    "if num in 강북구:\n",
    "    print(f'입력하신 우편번호는 {post}입니다. 우편번호 앞 3자리 {num}를 확인한 결과 당신은 강북구에 거주중입니다')\n",
    "elif num in 도봉구:\n",
    "    print(f'입력하신 우편번호는 {post}입니다. 우편번호 앞 3자리 {num}를 확인한 결과 당신은 도봉구에 거주중입니다')\n",
    "elif num in 노원구:\n",
    "    print(f'입력하신 우편번호는 {post}입니다. 우편번호 앞 3자리 {num}를 확인한 결과 당신은 노원구에 거주중입니다')\n",
    "else:\n",
    "    print(f'입력하신 우편번호는 {post} 조회되지 않습니다')\n",
    "            "
   ]
  },
  {
   "cell_type": "code",
   "execution_count": 30,
   "id": "f6958f31",
   "metadata": {},
   "outputs": [
    {
     "name": "stdout",
     "output_type": "stream",
     "text": [
      "성별을 확인할 수 없습니다. 입력하신 내용9990009999999을 다시 확인해 주세요\n"
     ]
    }
   ],
   "source": [
    "#127-1\n",
    "num = input('주민등록 번호 13자리를 입력하세요 (숫자만 입력)')\n",
    "남자 = ['1', '3']\n",
    "여자 = ['2', '4']\n",
    "성별 = num[6:7]\n",
    "if 성별 in 남자:\n",
    "    print('당신은 남자입니다')\n",
    "elif 성별 in 여자:\n",
    "    print('당신은 여자입니다')\n",
    "else:\n",
    "    print(f'성별을 확인할 수 없습니다. 입력하신 내용{num}을 다시 확인해 주세요')"
   ]
  },
  {
   "cell_type": "code",
   "execution_count": 32,
   "id": "e86daa4a",
   "metadata": {},
   "outputs": [
    {
     "name": "stdout",
     "output_type": "stream",
     "text": [
      "여자\n"
     ]
    }
   ],
   "source": [
    "#127-2\n",
    "주민번호 = input(\"주민등록번호: \")\n",
    "주민번호 = 주민번호.split(\"-\")[1]\n",
    "if 주민번호[0] == \"1\" or 주민번호[0] == \"3\":\n",
    "    print(\"남자\")\n",
    "else:\n",
    "    print(\"여자\")"
   ]
  },
  {
   "cell_type": "code",
   "execution_count": 60,
   "id": "bbc37ea7",
   "metadata": {},
   "outputs": [
    {
     "name": "stdout",
     "output_type": "stream",
     "text": [
      "['00', '01', '02', '03', '04', '05', '06', '07', '08']\n",
      "['09', '10', '11', '12']\n",
      "입력하신 주민번호는 9109202928734입니다. 8-9번째 번호는 92입니다.\n"
     ]
    },
    {
     "data": {
      "text/plain": [
       "\"\\nif 주민번호2 in 서울:\\n    print(f'입력하신 주민번호는 {주민번호}입니다. 서울입니다')\\nelif 주민번호2 in 부산:\\n    print(f'입력하신 주민번호는 {주민번호}입니다.부산입니다')\\nelse:\\n    print(f'입력하신 주민번호는 {주민번호}이지만, 지역은 확인할 수 없습니다')\\n\""
      ]
     },
     "execution_count": 60,
     "metadata": {},
     "output_type": "execute_result"
    }
   ],
   "source": [
    "#128\n",
    "서울 = list(range(0,9))\n",
    "부산 = list(range(9,13))\n",
    "서울 = [\"{:02}\".format(num) for num in 서울]\n",
    "부산 = [\"{:02}\".format(num) for num in 부산]\n",
    "print(서울)\n",
    "print(부산)\n",
    "\n",
    "주민번호 = input(\"주민등록번호를 숫자만 13자리 입력해 주세요\")\n",
    "주민번호2 = 주민번호[7:9]\n",
    "print(f'입력하신 주민번호는 {주민번호}입니다. 8-9번째 번호는 {주민번호2}입니다.')\n",
    "\n",
    "'''\n",
    "if 주민번호2 in 서울:\n",
    "    print(f'입력하신 주민번호는 {주민번호}입니다. 서울입니다')\n",
    "elif 주민번호2 in 부산:\n",
    "    print(f'입력하신 주민번호는 {주민번호}입니다.부산입니다')\n",
    "else:\n",
    "    print(f'입력하신 주민번호는 {주민번호}이지만, 지역은 확인할 수 없습니다')\n",
    "'''\n",
    "\n"
   ]
  },
  {
   "cell_type": "markdown",
   "id": "bd3c63f6",
   "metadata": {},
   "source": []
  },
  {
   "cell_type": "code",
   "execution_count": null,
   "id": "6d7faa13",
   "metadata": {},
   "outputs": [],
   "source": []
  }
 ],
 "metadata": {
  "kernelspec": {
   "display_name": "Python 3 (ipykernel)",
   "language": "python",
   "name": "python3"
  },
  "language_info": {
   "codemirror_mode": {
    "name": "ipython",
    "version": 3
   },
   "file_extension": ".py",
   "mimetype": "text/x-python",
   "name": "python",
   "nbconvert_exporter": "python",
   "pygments_lexer": "ipython3",
   "version": "3.12.6"
  }
 },
 "nbformat": 4,
 "nbformat_minor": 5
}
